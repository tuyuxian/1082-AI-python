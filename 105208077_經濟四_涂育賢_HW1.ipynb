{
 "cells": [
  {
   "cell_type": "code",
   "execution_count": 53,
   "metadata": {},
   "outputs": [],
   "source": [
    "import pandas as pd\n",
    "import numpy as np\n",
    "import matplotlib.pyplot as plt\n",
    "import tensorflow as tf"
   ]
  },
  {
   "cell_type": "code",
   "execution_count": 54,
   "metadata": {},
   "outputs": [],
   "source": [
    "from tensorflow.keras.datasets import fashion_mnist\n",
    "from tensorflow.keras.optimizers import SGD\n",
    "from tensorflow.keras.layers import Dense\n",
    "from tensorflow.keras.models import Sequential\n",
    "from tensorflow.keras.utils import to_categorical"
   ]
  },
  {
   "cell_type": "code",
   "execution_count": 69,
   "metadata": {},
   "outputs": [
    {
     "name": "stdout",
     "output_type": "stream",
     "text": [
      "這是 Bag\n"
     ]
    },
    {
     "data": {
      "text/plain": [
       "<matplotlib.image.AxesImage at 0x145920278>"
      ]
     },
     "execution_count": 69,
     "metadata": {},
     "output_type": "execute_result"
    },
    {
     "data": {
      "image/png": "[encoded data removed]",
      "text/plain": [
       "<Figure size 432x288 with 1 Axes>"
      ]
     },
     "metadata": {
      "needs_background": "light"
     },
     "output_type": "display_data"
    }
   ],
   "source": [
    "(x_train, y_train), (x_test, y_test) = fashion_mnist.load_data()\n",
    "\n",
    "class_names = ['T-shirt/top', 'Trouser', 'Pullover', 'Dress', 'Coat',\n",
    "               'Sandal', 'Shirt', 'Sneaker', 'Bag', 'Ankle boot']\n",
    "\n",
    "n = 1234\n",
    "print('這是', class_names[y_train[n]])\n",
    "plt.imshow(x_train[n], cmap='Greys')"
   ]
  },
  {
   "cell_type": "code",
   "execution_count": 56,
   "metadata": {},
   "outputs": [
    {
     "data": {
      "image/png": "[encoded data removed]",
      "text/plain": [
       "<Figure size 432x288 with 5 Axes>"
      ]
     },
     "metadata": {},
     "output_type": "display_data"
    }
   ],
   "source": [
    "pick = np.random.choice(60000, 5, replace=False)\n",
    "\n",
    "for i in range(5):\n",
    "    n = pick[i]\n",
    "    ax = plt.subplot(151+i)\n",
    "    ax.set_xticks([])\n",
    "    ax.set_yticks([])\n",
    "    ax.set_title(class_names[y_train[n]], fontsize=10)\n",
    "    plt.imshow(x_train[n], cmap='Greys')"
   ]
  },
  {
   "cell_type": "code",
   "execution_count": 57,
   "metadata": {},
   "outputs": [],
   "source": [
    "x_train.shape\n",
    "x_test.shape\n",
    "x_test[1]\n",
    "# 255 色彩範圍為0~255\n",
    "# 將矩陣轉範圍為0-1\n",
    "x_train = x_train/255\n",
    "x_test = x_test/255\n",
    "# reshape\n",
    "x_train = x_train.reshape(60000, 784)\n",
    "x_test = x_test.reshape(10000, 784)\n",
    "# y 值轉成 one-hot encoding\n",
    "y_train = to_categorical(y_train, 10)\n",
    "y_test = to_categorical(y_test, 10)"
   ]
  },
  {
   "cell_type": "code",
   "execution_count": 58,
   "metadata": {},
   "outputs": [
    {
     "name": "stdout",
     "output_type": "stream",
     "text": [
      "Model: \"sequential_2\"\n",
      "_________________________________________________________________\n",
      "Layer (type)                 Output Shape              Param #   \n",
      "=================================================================\n",
      "dense_6 (Dense)              (None, 200)               157000    \n",
      "_________________________________________________________________\n",
      "dense_7 (Dense)              (None, 100)               20100     \n",
      "_________________________________________________________________\n",
      "dense_8 (Dense)              (None, 10)                1010      \n",
      "=================================================================\n",
      "Total params: 178,110\n",
      "Trainable params: 178,110\n",
      "Non-trainable params: 0\n",
      "_________________________________________________________________\n"
     ]
    }
   ],
   "source": [
    "# activation = relu\n",
    "# layer 1: 200 neurons\n",
    "# layer 2: 100 neurons\n",
    "# output layer: neurons\n",
    "model = Sequential()\n",
    "model.add(Dense(200, input_dim=784, activation='relu'))\n",
    "model.add(Dense(100, activation='relu'))\n",
    "model.add(Dense(10, activation='softmax'))\n",
    "\n",
    "model.summary()"
   ]
  },
  {
   "cell_type": "code",
   "execution_count": 59,
   "metadata": {},
   "outputs": [
    {
     "name": "stdout",
     "output_type": "stream",
     "text": [
      "Train on 60000 samples\n",
      "Epoch 1/20\n",
      "60000/60000 [==============================] - 1s 17us/sample - loss: 0.0759 - accuracy: 0.4545\n",
      "Epoch 2/20\n",
      "60000/60000 [==============================] - 1s 14us/sample - loss: 0.0500 - accuracy: 0.6601\n",
      "Epoch 3/20\n",
      "60000/60000 [==============================] - 1s 14us/sample - loss: 0.0416 - accuracy: 0.7117\n",
      "Epoch 4/20\n",
      "60000/60000 [==============================] - 1s 14us/sample - loss: 0.0369 - accuracy: 0.7635\n",
      "Epoch 5/20\n",
      "60000/60000 [==============================] - 1s 14us/sample - loss: 0.0336 - accuracy: 0.7874\n",
      "Epoch 6/20\n",
      "60000/60000 [==============================] - 1s 14us/sample - loss: 0.0313 - accuracy: 0.8012\n",
      "Epoch 7/20\n",
      "60000/60000 [==============================] - 1s 15us/sample - loss: 0.0297 - accuracy: 0.8106\n",
      "Epoch 8/20\n",
      "60000/60000 [==============================] - 1s 15us/sample - loss: 0.0284 - accuracy: 0.8163\n",
      "Epoch 9/20\n",
      "60000/60000 [==============================] - 1s 15us/sample - loss: 0.0274 - accuracy: 0.8217\n",
      "Epoch 10/20\n",
      "60000/60000 [==============================] - 1s 15us/sample - loss: 0.0266 - accuracy: 0.8260\n",
      "Epoch 11/20\n",
      "60000/60000 [==============================] - 1s 15us/sample - loss: 0.0260 - accuracy: 0.8287\n",
      "Epoch 12/20\n",
      "60000/60000 [==============================] - 1s 15us/sample - loss: 0.0254 - accuracy: 0.8316\n",
      "Epoch 13/20\n",
      "60000/60000 [==============================] - 1s 14us/sample - loss: 0.0249 - accuracy: 0.8347\n",
      "Epoch 14/20\n",
      "60000/60000 [==============================] - 1s 14us/sample - loss: 0.0245 - accuracy: 0.8365\n",
      "Epoch 15/20\n",
      "60000/60000 [==============================] - 1s 14us/sample - loss: 0.0241 - accuracy: 0.8390\n",
      "Epoch 16/20\n",
      "60000/60000 [==============================] - 1s 14us/sample - loss: 0.0238 - accuracy: 0.8417\n",
      "Epoch 17/20\n",
      "60000/60000 [==============================] - 1s 14us/sample - loss: 0.0235 - accuracy: 0.8436\n",
      "Epoch 18/20\n",
      "60000/60000 [==============================] - 1s 15us/sample - loss: 0.0232 - accuracy: 0.8444\n",
      "Epoch 19/20\n",
      "60000/60000 [==============================] - 1s 15us/sample - loss: 0.0229 - accuracy: 0.8462\n",
      "Epoch 20/20\n",
      "60000/60000 [==============================] - 1s 15us/sample - loss: 0.0227 - accuracy: 0.8477\n"
     ]
    }
   ],
   "source": [
    "model.compile(loss='mse', optimizer=SGD(lr=0.05), metrics=['accuracy'])\n",
    "train_result = model.fit(x_train, y_train, batch_size=100, epochs=20)"
   ]
  },
  {
   "cell_type": "code",
   "execution_count": 63,
   "metadata": {},
   "outputs": [],
   "source": [
    "result = model.predict_classes(x_test)"
   ]
  },
  {
   "cell_type": "code",
   "execution_count": 66,
   "metadata": {},
   "outputs": [
    {
     "name": "stdout",
     "output_type": "stream",
     "text": [
      "這是 Sneaker\n"
     ]
    },
    {
     "data": {
      "text/plain": [
       "<matplotlib.image.AxesImage at 0x1457031d0>"
      ]
     },
     "execution_count": 66,
     "metadata": {},
     "output_type": "execute_result"
    },
    {
     "data": {
      "image/png": "[encoded data removed]",
      "text/plain": [
       "<Figure size 432x288 with 1 Axes>"
      ]
     },
     "metadata": {
      "needs_background": "light"
     },
     "output_type": "display_data"
    }
   ],
   "source": [
    "n = 3339\n",
    "print('這是', class_names[result[n]])\n",
    "plt.imshow(x_test[n].reshape(28,28), cmap = 'Greys')"
   ]
  },
  {
   "cell_type": "code",
   "execution_count": 60,
   "metadata": {},
   "outputs": [
    {
     "name": "stdout",
     "output_type": "stream",
     "text": [
      "Test loss: 0.0243319746568799\n",
      "Test accuracy: 0.8328\n"
     ]
    }
   ],
   "source": [
    "score = model.evaluate(x_test, y_test, verbose=0)\n",
    "print('Test loss:', score[0])\n",
    "print('Test accuracy:', score[1])"
   ]
  },
  {
   "cell_type": "code",
   "execution_count": 70,
   "metadata": {},
   "outputs": [
    {
     "name": "stdout",
     "output_type": "stream",
     "text": [
      "\n",
      "\n",
      " the result \n",
      "\n",
      " Confusion Matrix\n",
      "\n",
      " [[831   5  21  37   3   1 177   0   5   0]\n",
      " [  4 947   3  14   3   0   2   0   1   0]\n",
      " [ 14  12 769  14 139   0 138   0  15   0]\n",
      " [ 47  26   9 862  41   2  43   0   8   0]\n",
      " [  6   6 127  32 735   0 115   0   2   0]\n",
      " [  3   0   1   1   2 906   2  41   3  17]\n",
      " [ 73   2  53  35  69   0 488   0  11   0]\n",
      " [  0   0   0   0   0  52   0 907   6  48]\n",
      " [ 22   2  17   5   8   5  35   0 949   1]\n",
      " [  0   0   0   0   0  34   0  52   0 934]]\n"
     ]
    }
   ],
   "source": [
    "from sklearn import metrics\n",
    "print('\\n\\n the result \\n\\n Confusion Matrix\\n\\n',metrics.confusion_matrix(result, y_test))"
   ]
  },
  {
   "cell_type": "code",
   "execution_count": 62,
   "metadata": {},
   "outputs": [
    {
     "data": {
      "text/plain": [
       "Text(0.5,0,'epoch')"
      ]
     },
     "execution_count": 62,
     "metadata": {},
     "output_type": "execute_result"
    },
    {
     "data": {
      "image/png": "[encoded data removed]",
      "text/plain": [
       "<Figure size 432x288 with 1 Axes>"
      ]
     },
     "metadata": {
      "needs_background": "light"
     },
     "output_type": "display_data"
    }
   ],
   "source": [
    "# summarize history for accuracy\n",
    "plt.plot(train_result.history['accuracy'])\n",
    "plt.title('model accuracy')\n",
    "plt.ylabel('accuracy')\n",
    "plt.xlabel('epoch')"
   ]
  },
  {
   "cell_type": "code",
   "execution_count": null,
   "metadata": {},
   "outputs": [],
   "source": []
  }
 ],
 "metadata": {
  "kernelspec": {
   "display_name": "Python 3",
   "language": "python",
   "name": "python3"
  },
  "language_info": {
   "codemirror_mode": {
    "name": "ipython",
    "version": 3
   },
   "file_extension": ".py",
   "mimetype": "text/x-python",
   "name": "python",
   "nbconvert_exporter": "python",
   "pygments_lexer": "ipython3",
   "version": "3.7.3"
  }
 },
 "nbformat": 4,
 "nbformat_minor": 2
}
