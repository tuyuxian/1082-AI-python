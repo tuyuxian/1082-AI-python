{
 "cells": [
  {
   "cell_type": "markdown",
   "metadata": {},
   "source": [
    "## 第一次作業\n",
    "### 引入模組"
   ]
  },
  {
   "cell_type": "code",
   "execution_count": 2,
   "metadata": {},
   "outputs": [],
   "source": [
    "import pandas as pd\n",
    "import numpy as np\n",
    "import matplotlib.pyplot as plt\n",
    "import tensorflow as tf"
   ]
  },
  {
   "cell_type": "code",
   "execution_count": 3,
   "metadata": {},
   "outputs": [],
   "source": [
    "from tensorflow.keras.datasets import fashion_mnist\n",
    "from tensorflow.keras.optimizers import SGD\n",
    "from tensorflow.keras.layers import Dense\n",
    "from tensorflow.keras.models import Sequential\n",
    "from tensorflow.keras.utils import to_categorical"
   ]
  },
  {
   "cell_type": "markdown",
   "metadata": {},
   "source": [
    "### 讀取資料並簡單檢視"
   ]
  },
  {
   "cell_type": "code",
   "execution_count": 4,
   "metadata": {},
   "outputs": [
    {
     "name": "stdout",
     "output_type": "stream",
     "text": [
      "這是 Trouser\n"
     ]
    },
    {
     "data": {
      "text/plain": [
       "<matplotlib.image.AxesImage at 0x14624a860>"
      ]
     },
     "execution_count": 4,
     "metadata": {},
     "output_type": "execute_result"
    },
    {
     "data": {
      "image/png": "[encoded data removed]",
      "text/plain": [
       "<Figure size 432x288 with 1 Axes>"
      ]
     },
     "metadata": {
      "needs_background": "light"
     },
     "output_type": "display_data"
    }
   ],
   "source": [
    "(x_train, y_train), (x_test, y_test) = fashion_mnist.load_data()\n",
    "\n",
    "class_names = ['T-shirt/top', 'Trouser', 'Pullover', 'Dress', 'Coat',\n",
    "               'Sandal', 'Shirt', 'Sneaker', 'Bag', 'Ankle boot']\n",
    "\n",
    "n = 1000\n",
    "print('這是', class_names[y_train[n]])\n",
    "plt.imshow(x_train[n], cmap='Greys')"
   ]
  },
  {
   "cell_type": "code",
   "execution_count": 5,
   "metadata": {},
   "outputs": [
    {
     "data": {
      "image/png": "[encoded data removed]",
      "text/plain": [
       "<Figure size 432x288 with 5 Axes>"
      ]
     },
     "metadata": {},
     "output_type": "display_data"
    }
   ],
   "source": [
    "pick = np.random.choice(60000, 5, replace=False)\n",
    "\n",
    "for i in range(5):\n",
    "    n = pick[i]\n",
    "    ax = plt.subplot(151+i)\n",
    "    ax.set_xticks([])\n",
    "    ax.set_yticks([])\n",
    "    ax.set_title(class_names[y_train[n]], fontsize=10)\n",
    "    plt.imshow(x_train[n], cmap='Greys')"
   ]
  },
  {
   "cell_type": "markdown",
   "metadata": {},
   "source": [
    "### 檢視資料型態"
   ]
  },
  {
   "cell_type": "code",
   "execution_count": 7,
   "metadata": {},
   "outputs": [
    {
     "data": {
      "text/plain": [
       "(60000, 28, 28)"
      ]
     },
     "execution_count": 7,
     "metadata": {},
     "output_type": "execute_result"
    }
   ],
   "source": [
    "x_train.shape"
   ]
  },
  {
   "cell_type": "code",
   "execution_count": 8,
   "metadata": {},
   "outputs": [
    {
     "data": {
      "text/plain": [
       "(10000, 28, 28)"
      ]
     },
     "execution_count": 8,
     "metadata": {},
     "output_type": "execute_result"
    }
   ],
   "source": [
    "x_test.shape"
   ]
  },
  {
   "cell_type": "markdown",
   "metadata": {},
   "source": [
    "### 檢視第一筆資料的矩陣"
   ]
  },
  {
   "cell_type": "code",
   "execution_count": 9,
   "metadata": {},
   "outputs": [
    {
     "data": {
      "text/plain": [
       "array([[  0,   0,   0,   0,   0,   0,   0,   0,   0,   0,  13,  67,   0,\n",
       "          0,   0,   0,  50,  38,   0,   0,   0,   0,   0,   0,   0,   0,\n",
       "          0,   0],\n",
       "       [  0,   0,   0,   0,   0,   0,   0,   8, 120, 209, 226, 247, 237,\n",
       "        255, 255, 255, 247, 238, 235, 172,  72,   0,   0,   0,   0,   0,\n",
       "          0,   0],\n",
       "       [  0,   0,   0,   0,   0,   0, 137, 239, 252, 243, 234, 229, 238,\n",
       "        244, 246, 240, 230, 232, 239, 248, 251, 194,   0,   0,   0,   0,\n",
       "          0,   0],\n",
       "       [  0,   0,   0,   0,   0, 102, 255, 231, 228, 227, 228, 233, 230,\n",
       "        230, 229, 228, 232, 232, 231, 227, 224, 252, 179,   0,   0,   0,\n",
       "          0,   0],\n",
       "       [  0,   0,   0,   0,   0, 233, 241, 229, 231, 255, 255, 238, 231,\n",
       "        227, 238, 246, 228, 230, 227, 234, 235, 229, 241,  20,   0,   0,\n",
       "          0,   0],\n",
       "       [  0,   0,   0,   0,   0, 248, 241, 231, 255, 149,  47, 252, 228,\n",
       "        255, 242, 216, 238, 232, 255, 228, 220, 234, 250,  54,   0,   0,\n",
       "          0,   0],\n",
       "       [  0,   0,   0,   0,   0, 255, 240, 232, 255,  15,   0, 255, 237,\n",
       "        191,   0,   0, 214, 255,  13, 123, 255, 234, 252, 114,   0,   0,\n",
       "          0,   0],\n",
       "       [  0,   0,   0,   0,   6, 255, 238, 239, 255, 177,   0, 255, 255,\n",
       "          0, 130, 116,  47,  65,  43,  37, 255, 236, 249, 162,   0,   0,\n",
       "          0,   0],\n",
       "       [  0,   0,   0,   0,  32, 255, 236, 245, 255, 204,   0, 255,  84,\n",
       "          0,  37,  28,  31,   0,  25,  13, 255, 236, 249, 199,   0,   0,\n",
       "          0,   0],\n",
       "       [  0,   0,   0,   0,  53, 255, 236, 250, 250, 231,   2, 255,  21,\n",
       "          0, 221, 255, 236,  54, 245, 198, 243, 238, 245, 223,   0,   0,\n",
       "          0,   0],\n",
       "       [  0,   0,   0,   0,  80, 255, 237, 250, 240, 255,   0,   0,  39,\n",
       "        157,   0,   0, 215,  94,  20, 126, 255, 237, 239, 250,   0,   0,\n",
       "          0,   0],\n",
       "       [  0,   0,   0,   0, 101, 255, 235, 253, 244, 243, 133, 138, 208,\n",
       "        255, 201, 214, 255, 230,   7, 174, 255, 240, 238, 255,   0,   0,\n",
       "          0,   0],\n",
       "       [  0,   0,   0,   0, 126, 255, 233, 255, 248, 233, 255, 255, 240,\n",
       "        232, 243, 243, 231, 251, 255, 255, 254, 243, 238, 255,   3,   0,\n",
       "          0,   0],\n",
       "       [  0,   0,   0,   0, 147, 255, 233, 249, 181, 243, 227, 224, 230,\n",
       "        234, 230, 230, 235, 228, 235, 222, 207, 255, 236, 255,  35,   0,\n",
       "          0,   0],\n",
       "       [  0,   0,   0,   0, 163, 255, 245, 221,  86, 255, 233, 233, 235,\n",
       "        236, 234, 234, 234, 232, 242, 231, 125, 255, 236, 255,  55,   0,\n",
       "          0,   0],\n",
       "       [  0,   0,   0,   0, 181, 254, 255, 200,  69, 255, 228, 232, 234,\n",
       "        235, 234, 234, 233, 235, 241, 237,  70, 255, 235, 246,  57,   0,\n",
       "          0,   0],\n",
       "       [  0,   0,   0,   0, 197, 247, 255, 188, 110, 255, 224, 233, 234,\n",
       "        234, 234, 234, 234, 234, 240, 253,  69, 255, 236, 248,  77,   0,\n",
       "          0,   0],\n",
       "       [  0,   0,   0,   0, 200, 246, 255, 149, 145, 255, 223, 235, 234,\n",
       "        235, 235, 235, 234, 237, 233, 255,  47, 255, 239, 249,  98,   0,\n",
       "          0,   0],\n",
       "       [  0,   0,   0,   0, 204, 243, 255, 111, 173, 255, 227, 235, 235,\n",
       "        236, 235, 235, 235, 239, 229, 255,  19, 227, 246, 249, 110,   0,\n",
       "          0,   0],\n",
       "       [  0,   0,   0,   0, 196, 240, 255, 109, 213, 250, 229, 235, 235,\n",
       "        236, 235, 237, 236, 237, 226, 255,  55, 203, 251, 245, 120,   0,\n",
       "          0,   0],\n",
       "       [  0,   0,   0,   0, 192, 243, 255, 114, 232, 240, 232, 235, 235,\n",
       "        236, 234, 237, 236, 235, 229, 255, 134, 171, 252, 244, 137,   0,\n",
       "          0,   0],\n",
       "       [  0,   0,   0,   0, 189, 251, 255, 154, 238, 233, 236, 234, 235,\n",
       "        236, 235, 238, 236, 235, 232, 255, 166, 125, 255, 243, 142,   0,\n",
       "          0,   0],\n",
       "       [  0,   0,   0,   0, 183, 252, 255, 171, 247, 232, 234, 234, 233,\n",
       "        233, 232, 234, 233, 234, 233, 240, 223, 128, 255, 242, 151,   0,\n",
       "          0,   0],\n",
       "       [  0,   0,   0,   0, 178, 243, 255,  57, 238, 241, 238, 238, 238,\n",
       "        237, 236, 237, 237, 240, 237, 254, 176,  52, 255, 239, 157,   0,\n",
       "          0,   0],\n",
       "       [  0,   0,   0,   0, 188, 240, 250,  62, 218, 255, 220, 222, 222,\n",
       "        222, 223, 223, 224, 222, 218, 255, 154,  32, 255, 236, 188,   0,\n",
       "          0,   0],\n",
       "       [  0,   0,   0,   0, 130, 245, 242,  24,   0,   0,   0,   0,   0,\n",
       "          0,   0,   0,   0,   0,   0,   0,   0,  34, 242, 244, 135,   0,\n",
       "          0,   0],\n",
       "       [  0,   0,   0,   0,  76, 255, 249,  22,   0,   0,   0,   0,   0,\n",
       "          0,   0,   0,   0,   0,   0,   0,   0,  39, 249, 255, 123,   0,\n",
       "          0,   0],\n",
       "       [  0,   0,   0,   0,  49, 205, 197,  11,   0,   4,   1,   2,   2,\n",
       "          2,   2,   2,   2,   2,   2,   3,   0,   3, 174, 189,  67,   0,\n",
       "          0,   0]], dtype=uint8)"
      ]
     },
     "execution_count": 9,
     "metadata": {},
     "output_type": "execute_result"
    }
   ],
   "source": [
    "x_test[1]"
   ]
  },
  {
   "cell_type": "markdown",
   "metadata": {},
   "source": [
    "### 色彩範圍為0~255\n",
    "### 將矩陣轉範圍為0-1 將矩陣除以255"
   ]
  },
  {
   "cell_type": "code",
   "execution_count": 10,
   "metadata": {},
   "outputs": [],
   "source": [
    "x_train = x_train/255\n",
    "x_test = x_test/255"
   ]
  },
  {
   "cell_type": "markdown",
   "metadata": {},
   "source": [
    "### 使用reshape將矩陣拉平"
   ]
  },
  {
   "cell_type": "code",
   "execution_count": 11,
   "metadata": {},
   "outputs": [],
   "source": [
    "x_train = x_train.reshape(60000, 784)\n",
    "x_test = x_test.reshape(10000, 784)"
   ]
  },
  {
   "cell_type": "markdown",
   "metadata": {},
   "source": [
    "### activation = relu\n",
    "### layer 1: 200 neurons\n",
    "### layer 2: 100 neurons\n",
    "### output layer: 10 neurons"
   ]
  },
  {
   "cell_type": "code",
   "execution_count": 12,
   "metadata": {},
   "outputs": [],
   "source": [
    "model = Sequential()\n",
    "model.add(Dense(200, input_dim=784, activation='relu'))\n",
    "model.add(Dense(100, activation='relu'))\n",
    "model.add(Dense(10, activation='softmax'))"
   ]
  },
  {
   "cell_type": "code",
   "execution_count": 13,
   "metadata": {},
   "outputs": [
    {
     "name": "stdout",
     "output_type": "stream",
     "text": [
      "Model: \"sequential\"\n",
      "_________________________________________________________________\n",
      "Layer (type)                 Output Shape              Param #   \n",
      "=================================================================\n",
      "dense (Dense)                (None, 200)               157000    \n",
      "_________________________________________________________________\n",
      "dense_1 (Dense)              (None, 100)               20100     \n",
      "_________________________________________________________________\n",
      "dense_2 (Dense)              (None, 10)                1010      \n",
      "=================================================================\n",
      "Total params: 178,110\n",
      "Trainable params: 178,110\n",
      "Non-trainable params: 0\n",
      "_________________________________________________________________\n"
     ]
    }
   ],
   "source": [
    "model.summary()"
   ]
  },
  {
   "cell_type": "markdown",
   "metadata": {},
   "source": [
    "### 將Loss函數由\"MSE\"改成\"sparse_categorical_crossentropy\""
   ]
  },
  {
   "cell_type": "markdown",
   "metadata": {},
   "source": [
    "### epochs 改成 30"
   ]
  },
  {
   "cell_type": "code",
   "execution_count": 14,
   "metadata": {},
   "outputs": [
    {
     "name": "stdout",
     "output_type": "stream",
     "text": [
      "Train on 60000 samples\n",
      "Epoch 1/30\n",
      "60000/60000 [==============================] - 1s 22us/sample - loss: 0.9871 - accuracy: 0.7009\n",
      "Epoch 2/30\n",
      "60000/60000 [==============================] - 1s 15us/sample - loss: 0.5939 - accuracy: 0.8026\n",
      "Epoch 3/30\n",
      "60000/60000 [==============================] - 1s 15us/sample - loss: 0.5222 - accuracy: 0.8229\n",
      "Epoch 4/30\n",
      "60000/60000 [==============================] - 1s 15us/sample - loss: 0.4873 - accuracy: 0.8317\n",
      "Epoch 5/30\n",
      "60000/60000 [==============================] - 1s 15us/sample - loss: 0.4650 - accuracy: 0.8389\n",
      "Epoch 6/30\n",
      "60000/60000 [==============================] - 1s 15us/sample - loss: 0.4480 - accuracy: 0.8444\n",
      "Epoch 7/30\n",
      "60000/60000 [==============================] - 1s 15us/sample - loss: 0.4354 - accuracy: 0.8489\n",
      "Epoch 8/30\n",
      "60000/60000 [==============================] - 1s 15us/sample - loss: 0.4243 - accuracy: 0.8520\n",
      "Epoch 9/30\n",
      "60000/60000 [==============================] - 1s 15us/sample - loss: 0.4145 - accuracy: 0.8558\n",
      "Epoch 10/30\n",
      "60000/60000 [==============================] - 1s 15us/sample - loss: 0.4062 - accuracy: 0.8581\n",
      "Epoch 11/30\n",
      "60000/60000 [==============================] - 1s 15us/sample - loss: 0.3978 - accuracy: 0.8603\n",
      "Epoch 12/30\n",
      "60000/60000 [==============================] - 1s 15us/sample - loss: 0.3922 - accuracy: 0.8626\n",
      "Epoch 13/30\n",
      "60000/60000 [==============================] - 1s 15us/sample - loss: 0.3861 - accuracy: 0.8651\n",
      "Epoch 14/30\n",
      "60000/60000 [==============================] - 1s 15us/sample - loss: 0.3795 - accuracy: 0.8670\n",
      "Epoch 15/30\n",
      "60000/60000 [==============================] - 1s 15us/sample - loss: 0.3745 - accuracy: 0.8686\n",
      "Epoch 16/30\n",
      "60000/60000 [==============================] - 1s 15us/sample - loss: 0.3694 - accuracy: 0.8699\n",
      "Epoch 17/30\n",
      "60000/60000 [==============================] - 1s 15us/sample - loss: 0.3646 - accuracy: 0.8710\n",
      "Epoch 18/30\n",
      "60000/60000 [==============================] - 1s 15us/sample - loss: 0.3611 - accuracy: 0.8731\n",
      "Epoch 19/30\n",
      "60000/60000 [==============================] - 1s 15us/sample - loss: 0.3564 - accuracy: 0.8738\n",
      "Epoch 20/30\n",
      "60000/60000 [==============================] - 1s 15us/sample - loss: 0.3522 - accuracy: 0.8753\n",
      "Epoch 21/30\n",
      "60000/60000 [==============================] - 1s 15us/sample - loss: 0.3482 - accuracy: 0.8775\n",
      "Epoch 22/30\n",
      "60000/60000 [==============================] - 1s 15us/sample - loss: 0.3440 - accuracy: 0.8779\n",
      "Epoch 23/30\n",
      "60000/60000 [==============================] - 1s 15us/sample - loss: 0.3410 - accuracy: 0.8794\n",
      "Epoch 24/30\n",
      "60000/60000 [==============================] - 1s 15us/sample - loss: 0.3373 - accuracy: 0.8806\n",
      "Epoch 25/30\n",
      "60000/60000 [==============================] - 1s 15us/sample - loss: 0.3339 - accuracy: 0.8823\n",
      "Epoch 26/30\n",
      "60000/60000 [==============================] - 1s 15us/sample - loss: 0.3302 - accuracy: 0.8838\n",
      "Epoch 27/30\n",
      "60000/60000 [==============================] - 1s 15us/sample - loss: 0.3275 - accuracy: 0.8841\n",
      "Epoch 28/30\n",
      "60000/60000 [==============================] - 1s 15us/sample - loss: 0.3240 - accuracy: 0.8850\n",
      "Epoch 29/30\n",
      "60000/60000 [==============================] - 1s 15us/sample - loss: 0.3218 - accuracy: 0.8853\n",
      "Epoch 30/30\n",
      "60000/60000 [==============================] - 1s 15us/sample - loss: 0.3176 - accuracy: 0.8864\n"
     ]
    }
   ],
   "source": [
    "model.compile(loss='sparse_categorical_crossentropy', optimizer='sgd', metrics=['accuracy'])\n",
    "train_history = model.fit(x_train, y_train, batch_size=100, epochs=30)"
   ]
  },
  {
   "cell_type": "code",
   "execution_count": 15,
   "metadata": {},
   "outputs": [],
   "source": [
    "result = model.predict_classes(x_test)"
   ]
  },
  {
   "cell_type": "markdown",
   "metadata": {},
   "source": [
    "### 檢視預測結果與圖片是否相符"
   ]
  },
  {
   "cell_type": "code",
   "execution_count": 26,
   "metadata": {},
   "outputs": [
    {
     "name": "stdout",
     "output_type": "stream",
     "text": [
      "第幾個:1\n",
      "這是 Pullover\n",
      "The prediction is right.\n"
     ]
    },
    {
     "data": {
      "image/png": "[encoded data removed]",
      "text/plain": [
       "<Figure size 432x288 with 1 Axes>"
      ]
     },
     "metadata": {
      "needs_background": "light"
     },
     "output_type": "display_data"
    }
   ],
   "source": [
    "n = eval(input(\"第幾個:\"))\n",
    "print('這是', class_names[result[n]])\n",
    "plt.imshow(x_test[n].reshape(28,28), cmap = 'Greys')\n",
    "if result[n] == y_test[n]:\n",
    "    print(\"The prediction is right.\")\n",
    "else:\n",
    "    print(\"The prediction is wrong.\")"
   ]
  },
  {
   "cell_type": "markdown",
   "metadata": {},
   "source": [
    "### 參考眾多同學都有切割數據集來做驗證以防止過度擬合，我自己也試了一下\n",
    "### 驗證集大小為60000比測試集中的45001筆至60000筆"
   ]
  },
  {
   "cell_type": "code",
   "execution_count": 41,
   "metadata": {},
   "outputs": [],
   "source": [
    "x_training = x_train[0:45000, :]\n",
    "y_training = y_train[0:45000]\n",
    "x_val = x_train[45001:60000, :]\n",
    "y_val = y_train[45001:60000]"
   ]
  },
  {
   "cell_type": "markdown",
   "metadata": {},
   "source": [
    "### 加入驗證集後再次跑模型"
   ]
  },
  {
   "cell_type": "code",
   "execution_count": 42,
   "metadata": {},
   "outputs": [
    {
     "name": "stdout",
     "output_type": "stream",
     "text": [
      "Train on 45000 samples, validate on 14999 samples\n",
      "Epoch 1/30\n",
      "45000/45000 [==============================] - 1s 20us/sample - loss: 0.3141 - accuracy: 0.8892 - val_loss: 0.3151 - val_accuracy: 0.8893\n",
      "Epoch 2/30\n",
      "45000/45000 [==============================] - 1s 18us/sample - loss: 0.3110 - accuracy: 0.8899 - val_loss: 0.3161 - val_accuracy: 0.8888\n",
      "Epoch 3/30\n",
      "45000/45000 [==============================] - 1s 18us/sample - loss: 0.3079 - accuracy: 0.8900 - val_loss: 0.3192 - val_accuracy: 0.8869\n",
      "Epoch 4/30\n",
      "45000/45000 [==============================] - 1s 18us/sample - loss: 0.3061 - accuracy: 0.8902 - val_loss: 0.3145 - val_accuracy: 0.8892\n",
      "Epoch 5/30\n",
      "45000/45000 [==============================] - 1s 18us/sample - loss: 0.3032 - accuracy: 0.8919 - val_loss: 0.3248 - val_accuracy: 0.8841\n",
      "Epoch 6/30\n",
      "45000/45000 [==============================] - 1s 18us/sample - loss: 0.3010 - accuracy: 0.8923 - val_loss: 0.3150 - val_accuracy: 0.8890\n",
      "Epoch 7/30\n",
      "45000/45000 [==============================] - 1s 18us/sample - loss: 0.2989 - accuracy: 0.8930 - val_loss: 0.3118 - val_accuracy: 0.8895\n",
      "Epoch 8/30\n",
      "45000/45000 [==============================] - 1s 18us/sample - loss: 0.2965 - accuracy: 0.8929 - val_loss: 0.3162 - val_accuracy: 0.8864\n",
      "Epoch 9/30\n",
      "45000/45000 [==============================] - 1s 18us/sample - loss: 0.2937 - accuracy: 0.8950 - val_loss: 0.3259 - val_accuracy: 0.8826\n",
      "Epoch 10/30\n",
      "45000/45000 [==============================] - 1s 18us/sample - loss: 0.2921 - accuracy: 0.8956 - val_loss: 0.3104 - val_accuracy: 0.8899\n",
      "Epoch 11/30\n",
      "45000/45000 [==============================] - 1s 18us/sample - loss: 0.2904 - accuracy: 0.8972 - val_loss: 0.3202 - val_accuracy: 0.8847\n",
      "Epoch 12/30\n",
      "45000/45000 [==============================] - 1s 18us/sample - loss: 0.2888 - accuracy: 0.8971 - val_loss: 0.3185 - val_accuracy: 0.8868\n",
      "Epoch 13/30\n",
      "45000/45000 [==============================] - 1s 18us/sample - loss: 0.2854 - accuracy: 0.8978 - val_loss: 0.3111 - val_accuracy: 0.8877\n",
      "Epoch 14/30\n",
      "45000/45000 [==============================] - 1s 18us/sample - loss: 0.2841 - accuracy: 0.8994 - val_loss: 0.3066 - val_accuracy: 0.8894\n",
      "Epoch 15/30\n",
      "45000/45000 [==============================] - 1s 19us/sample - loss: 0.2828 - accuracy: 0.8989 - val_loss: 0.3115 - val_accuracy: 0.8889\n",
      "Epoch 16/30\n",
      "45000/45000 [==============================] - 1s 18us/sample - loss: 0.2797 - accuracy: 0.9012 - val_loss: 0.3085 - val_accuracy: 0.8896\n",
      "Epoch 17/30\n",
      "45000/45000 [==============================] - 1s 19us/sample - loss: 0.2790 - accuracy: 0.9011 - val_loss: 0.3115 - val_accuracy: 0.8883\n",
      "Epoch 18/30\n",
      "45000/45000 [==============================] - 1s 19us/sample - loss: 0.2769 - accuracy: 0.9016 - val_loss: 0.3154 - val_accuracy: 0.8878\n",
      "Epoch 19/30\n",
      "45000/45000 [==============================] - 1s 19us/sample - loss: 0.2748 - accuracy: 0.9022 - val_loss: 0.3115 - val_accuracy: 0.8878\n",
      "Epoch 20/30\n",
      "45000/45000 [==============================] - 1s 19us/sample - loss: 0.2734 - accuracy: 0.9032 - val_loss: 0.3064 - val_accuracy: 0.8898\n",
      "Epoch 21/30\n",
      "45000/45000 [==============================] - 1s 18us/sample - loss: 0.2713 - accuracy: 0.9027 - val_loss: 0.3265 - val_accuracy: 0.8836\n",
      "Epoch 22/30\n",
      "45000/45000 [==============================] - 1s 18us/sample - loss: 0.2690 - accuracy: 0.9049 - val_loss: 0.3048 - val_accuracy: 0.8903\n",
      "Epoch 23/30\n",
      "45000/45000 [==============================] - 1s 19us/sample - loss: 0.2666 - accuracy: 0.9044 - val_loss: 0.3102 - val_accuracy: 0.8883\n",
      "Epoch 24/30\n",
      "45000/45000 [==============================] - 1s 19us/sample - loss: 0.2653 - accuracy: 0.9053 - val_loss: 0.3037 - val_accuracy: 0.8911\n",
      "Epoch 25/30\n",
      "45000/45000 [==============================] - 1s 19us/sample - loss: 0.2625 - accuracy: 0.9061 - val_loss: 0.3139 - val_accuracy: 0.8869\n",
      "Epoch 26/30\n",
      "45000/45000 [==============================] - 1s 19us/sample - loss: 0.2633 - accuracy: 0.9057 - val_loss: 0.3061 - val_accuracy: 0.8888\n",
      "Epoch 27/30\n",
      "45000/45000 [==============================] - 1s 19us/sample - loss: 0.2602 - accuracy: 0.9077 - val_loss: 0.3015 - val_accuracy: 0.8925\n",
      "Epoch 28/30\n",
      "45000/45000 [==============================] - 1s 19us/sample - loss: 0.2579 - accuracy: 0.9073 - val_loss: 0.3052 - val_accuracy: 0.8889\n",
      "Epoch 29/30\n",
      "45000/45000 [==============================] - 1s 19us/sample - loss: 0.2567 - accuracy: 0.9077 - val_loss: 0.3023 - val_accuracy: 0.8925\n",
      "Epoch 30/30\n",
      "45000/45000 [==============================] - 1s 18us/sample - loss: 0.2562 - accuracy: 0.9093 - val_loss: 0.3022 - val_accuracy: 0.8907\n"
     ]
    }
   ],
   "source": [
    "train_history2 = model.fit(x_training, y_training, validation_data=(x_val, y_val), batch_size=100, epochs=30)"
   ]
  },
  {
   "cell_type": "markdown",
   "metadata": {},
   "source": [
    "### 透過圖表來看測試集準確度與驗證集準確度的關係"
   ]
  },
  {
   "cell_type": "code",
   "execution_count": 45,
   "metadata": {},
   "outputs": [
    {
     "data": {
      "text/plain": [
       "<matplotlib.legend.Legend at 0x143112588>"
      ]
     },
     "execution_count": 45,
     "metadata": {},
     "output_type": "execute_result"
    },
    {
     "data": {
      "image/png": "[encoded data removed]",
      "text/plain": [
       "<Figure size 432x288 with 1 Axes>"
      ]
     },
     "metadata": {
      "needs_background": "light"
     },
     "output_type": "display_data"
    }
   ],
   "source": [
    "plt.plot(train_history2.history['accuracy'])\n",
    "plt.plot(train_history2.history['val_accuracy'])\n",
    "plt.title('Model Accuracy')\n",
    "plt.ylabel('Accuracy')\n",
    "plt.xlabel('Epoch')\n",
    "plt.legend(['train', 'val'], loc='upper left')"
   ]
  },
  {
   "cell_type": "markdown",
   "metadata": {},
   "source": [
    "### 透過圖表來看測試集錯誤率與驗證集錯誤率的關係"
   ]
  },
  {
   "cell_type": "code",
   "execution_count": 46,
   "metadata": {},
   "outputs": [
    {
     "data": {
      "text/plain": [
       "<matplotlib.legend.Legend at 0x1431c5c18>"
      ]
     },
     "execution_count": 46,
     "metadata": {},
     "output_type": "execute_result"
    },
    {
     "data": {
      "image/png": "[encoded data removed]",
      "text/plain": [
       "<Figure size 432x288 with 1 Axes>"
      ]
     },
     "metadata": {
      "needs_background": "light"
     },
     "output_type": "display_data"
    }
   ],
   "source": [
    "plt.plot(train_history2.history['loss'])\n",
    "plt.plot(train_history2.history['val_loss'])\n",
    "plt.title('Model Loss')\n",
    "plt.ylabel('Accuracy')\n",
    "plt.xlabel('Epoch')\n",
    "plt.legend(['train', 'val'], loc='upper left')"
   ]
  },
  {
   "cell_type": "markdown",
   "metadata": {},
   "source": [
    "### 透過混淆矩陣來看模型預測情況，矩陣從左上到右下的對角線為預測正確的數目"
   ]
  },
  {
   "cell_type": "code",
   "execution_count": 47,
   "metadata": {},
   "outputs": [
    {
     "name": "stdout",
     "output_type": "stream",
     "text": [
      "Confusion Matrix\n",
      " [[785   6  10  21   0   0 107   0   3   0]\n",
      " [  0 962   2  11   0   0   1   0   1   0]\n",
      " [ 16   3 829  15 143   0 101   0  13   0]\n",
      " [ 33  24  15 894  49   1  31   0   8   0]\n",
      " [  3   3  71  19 721   0  59   0   4   0]\n",
      " [  3   0   1   0   1 953   1  30   3  10]\n",
      " [150   2  69  34  80   0 684   0  15   0]\n",
      " [  0   0   0   0   0  31   0 928   6  32]\n",
      " [ 10   0   3   6   6   1  16   0 947   1]\n",
      " [  0   0   0   0   0  14   0  42   0 957]]\n"
     ]
    }
   ],
   "source": [
    "from sklearn import metrics\n",
    "print('Confusion Matrix\\n',metrics.confusion_matrix(result, y_test))"
   ]
  },
  {
   "cell_type": "markdown",
   "metadata": {},
   "source": [
    "### 參考資料: 損失函數介紹 \n",
    "##### https://medium.com/@chih.sheng.huang821/%E6%A9%9F%E5%99%A8-%E6%B7%B1%E5%BA%A6%E5%AD%B8%E7%BF%92-%E5%9F%BA%E7%A4%8E%E4%BB%8B%E7%B4%B9-%E6%90%8D%E5%A4%B1%E5%87%BD%E6%95%B8-loss-function-2dcac5ebb6cb"
   ]
  }
 ],
 "metadata": {
  "kernelspec": {
   "display_name": "Python 3",
   "language": "python",
   "name": "python3"
  },
  "language_info": {
   "codemirror_mode": {
    "name": "ipython",
    "version": 3
   },
   "file_extension": ".py",
   "mimetype": "text/x-python",
   "name": "python",
   "nbconvert_exporter": "python",
   "pygments_lexer": "ipython3",
   "version": "3.7.3"
  }
 },
 "nbformat": 4,
 "nbformat_minor": 2
}
