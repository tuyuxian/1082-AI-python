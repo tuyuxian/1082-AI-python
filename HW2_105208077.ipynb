{
 "cells": [
  {
   "cell_type": "markdown",
   "metadata": {},
   "source": [
    "### 第二次作業\n",
    "#### 105208077 經濟四 涂育賢"
   ]
  },
  {
   "cell_type": "markdown",
   "metadata": {},
   "source": [
    "### 主要改動\n",
    "#### 將全連結層改為兩層，分別為80,40個神經元\n",
    "#### 將loss函數由'mse'改成'categorical_crossentropy'，適用標籤為多類模式\n",
    "#### optinizer 改成 adam (由於SGD的learning rate很難選擇適合的，所以採用較熱門的adam)"
   ]
  },
  {
   "cell_type": "markdown",
   "metadata": {},
   "source": [
    "### 引入模型"
   ]
  },
  {
   "cell_type": "code",
   "execution_count": 1,
   "metadata": {},
   "outputs": [],
   "source": [
    "import numpy as np\n",
    "import pandas as pd\n",
    "import matplotlib.pyplot as plt"
   ]
  },
  {
   "cell_type": "code",
   "execution_count": 2,
   "metadata": {},
   "outputs": [],
   "source": [
    "from tensorflow.keras.models import Sequential\n",
    "from tensorflow.keras.layers import Conv2D,MaxPooling2D\n",
    "from tensorflow.keras.layers import Dense, Flatten\n",
    "from tensorflow.keras.optimizers import SGD\n",
    "from tensorflow.keras.utils import to_categorical"
   ]
  },
  {
   "cell_type": "markdown",
   "metadata": {},
   "source": [
    "### 讀取資料集"
   ]
  },
  {
   "cell_type": "code",
   "execution_count": 3,
   "metadata": {},
   "outputs": [],
   "source": [
    "from tensorflow.keras.datasets import mnist"
   ]
  },
  {
   "cell_type": "code",
   "execution_count": 4,
   "metadata": {},
   "outputs": [],
   "source": [
    "(x_train,y_train),(x_test,y_test) = mnist.load_data()"
   ]
  },
  {
   "cell_type": "code",
   "execution_count": 5,
   "metadata": {},
   "outputs": [],
   "source": [
    "x_train = x_train.reshape(60000,28,28,1)/255\n",
    "x_test = x_test.reshape(10000,28,28,1)/255"
   ]
  },
  {
   "cell_type": "code",
   "execution_count": 6,
   "metadata": {},
   "outputs": [],
   "source": [
    "y_train = to_categorical(y_train,10) \n",
    "y_test = to_categorical(y_test,10) "
   ]
  },
  {
   "cell_type": "markdown",
   "metadata": {},
   "source": [
    "### 建立神經網路\n",
    "#### 選擇三層CNN架構\n",
    "####  卷基層分別有16, 32, 64個filter\n",
    "####  池化層將圖片縮小尺寸為原本的$ \\frac{1}{2} $"
   ]
  },
  {
   "cell_type": "code",
   "execution_count": 7,
   "metadata": {},
   "outputs": [],
   "source": [
    "model = Sequential()"
   ]
  },
  {
   "cell_type": "code",
   "execution_count": 8,
   "metadata": {},
   "outputs": [
    {
     "name": "stdout",
     "output_type": "stream",
     "text": [
      "Model: \"sequential\"\n",
      "_________________________________________________________________\n",
      "Layer (type)                 Output Shape              Param #   \n",
      "=================================================================\n",
      "conv2d (Conv2D)              (None, 28, 28, 16)        160       \n",
      "_________________________________________________________________\n",
      "max_pooling2d (MaxPooling2D) (None, 14, 14, 16)        0         \n",
      "_________________________________________________________________\n",
      "conv2d_1 (Conv2D)            (None, 14, 14, 32)        4640      \n",
      "_________________________________________________________________\n",
      "max_pooling2d_1 (MaxPooling2 (None, 7, 7, 32)          0         \n",
      "_________________________________________________________________\n",
      "conv2d_2 (Conv2D)            (None, 7, 7, 64)          18496     \n",
      "_________________________________________________________________\n",
      "max_pooling2d_2 (MaxPooling2 (None, 3, 3, 64)          0         \n",
      "_________________________________________________________________\n",
      "flatten (Flatten)            (None, 576)               0         \n",
      "_________________________________________________________________\n",
      "dense (Dense)                (None, 80)                46160     \n",
      "_________________________________________________________________\n",
      "dense_1 (Dense)              (None, 40)                3240      \n",
      "_________________________________________________________________\n",
      "dense_2 (Dense)              (None, 10)                410       \n",
      "=================================================================\n",
      "Total params: 73,106\n",
      "Trainable params: 73,106\n",
      "Non-trainable params: 0\n",
      "_________________________________________________________________\n"
     ]
    }
   ],
   "source": [
    "#第一層CNN\n",
    "model.add(Conv2D(16,(3,3),padding = 'same',\n",
    "                input_shape = (28,28,1),\n",
    "                activation = 'relu'))\n",
    "model.add(MaxPooling2D(pool_size=(2,2)))\n",
    "#第二層CNN\n",
    "model.add(Conv2D(32,(3,3),padding = 'same',\n",
    "                activation = 'relu'))\n",
    "model.add(MaxPooling2D(pool_size = (2,2)))\n",
    "#第三層CNN\n",
    "model.add(Conv2D(64,(3,3),padding = 'same',\n",
    "                activation = 'relu'))\n",
    "model.add(MaxPooling2D(pool_size = (2,2)))\n",
    "#拉平\n",
    "model.add(Flatten())\n",
    "#全連結層\n",
    "model.add(Dense(80,activation='relu'))\n",
    "model.add(Dense(40,activation='relu'))\n",
    "model.add(Dense(10,activation='softmax'))\n",
    "model.summary()"
   ]
  },
  {
   "cell_type": "markdown",
   "metadata": {},
   "source": [
    "### 將loss函數由'mse'改成'categorical_crossentropy'，適用標籤為多類模式。\n",
    "### optinizer 改成 adam (由於SGD的learning rate很難選擇適合的，所以採用較熱門的adam)"
   ]
  },
  {
   "cell_type": "code",
   "execution_count": 9,
   "metadata": {},
   "outputs": [],
   "source": [
    "model.compile(loss='categorical_crossentropy',optimizer='adam',metrics = ['accuracy'])"
   ]
  },
  {
   "cell_type": "markdown",
   "metadata": {},
   "source": [
    "### batch_size 為 100 ; epochs 為 10"
   ]
  },
  {
   "cell_type": "code",
   "execution_count": 13,
   "metadata": {},
   "outputs": [
    {
     "name": "stdout",
     "output_type": "stream",
     "text": [
      "Train on 50000 samples, validate on 10000 samples\n",
      "Epoch 1/10\n",
      "50000/50000 [==============================] - 12s 247us/sample - loss: 0.3059 - accuracy: 0.9052 - val_loss: 0.0760 - val_accuracy: 0.9782\n",
      "Epoch 2/10\n",
      "50000/50000 [==============================] - 12s 236us/sample - loss: 0.0782 - accuracy: 0.9752 - val_loss: 0.0585 - val_accuracy: 0.9821\n",
      "Epoch 3/10\n",
      "50000/50000 [==============================] - 12s 238us/sample - loss: 0.0523 - accuracy: 0.9837 - val_loss: 0.0624 - val_accuracy: 0.9842\n",
      "Epoch 4/10\n",
      "50000/50000 [==============================] - 12s 238us/sample - loss: 0.0402 - accuracy: 0.9872 - val_loss: 0.0515 - val_accuracy: 0.9841\n",
      "Epoch 5/10\n",
      "50000/50000 [==============================] - 12s 239us/sample - loss: 0.0324 - accuracy: 0.9900 - val_loss: 0.0498 - val_accuracy: 0.9859\n",
      "Epoch 6/10\n",
      "50000/50000 [==============================] - 12s 243us/sample - loss: 0.0267 - accuracy: 0.9916 - val_loss: 0.0394 - val_accuracy: 0.9890\n",
      "Epoch 7/10\n",
      "50000/50000 [==============================] - 12s 245us/sample - loss: 0.0250 - accuracy: 0.9919 - val_loss: 0.0307 - val_accuracy: 0.9919\n",
      "Epoch 8/10\n",
      "50000/50000 [==============================] - 12s 246us/sample - loss: 0.0191 - accuracy: 0.9937 - val_loss: 0.0350 - val_accuracy: 0.9901\n",
      "Epoch 9/10\n",
      "50000/50000 [==============================] - 12s 245us/sample - loss: 0.0199 - accuracy: 0.9933 - val_loss: 0.0422 - val_accuracy: 0.9891\n",
      "Epoch 10/10\n",
      "50000/50000 [==============================] - 12s 241us/sample - loss: 0.0180 - accuracy: 0.9937 - val_loss: 0.0383 - val_accuracy: 0.9899\n"
     ]
    }
   ],
   "source": [
    "train_history2 = model.fit(x_train, y_train, validation_split = (1/6), batch_size = 100, epochs=10)"
   ]
  },
  {
   "cell_type": "markdown",
   "metadata": {},
   "source": [
    "### 透過圖可以看到整體來說，訓練過程算是沒有overfitting"
   ]
  },
  {
   "cell_type": "code",
   "execution_count": 14,
   "metadata": {},
   "outputs": [
    {
     "data": {
      "text/plain": [
       "<matplotlib.legend.Legend at 0x13b00c898>"
      ]
     },
     "execution_count": 14,
     "metadata": {},
     "output_type": "execute_result"
    },
    {
     "data": {
      "image/png": "[encoded data removed]",
      "text/plain": [
       "<Figure size 432x288 with 1 Axes>"
      ]
     },
     "metadata": {
      "needs_background": "light"
     },
     "output_type": "display_data"
    }
   ],
   "source": [
    "plt.plot(train_history2.history['accuracy'])\n",
    "plt.plot(train_history2.history['val_accuracy'])\n",
    "plt.title('Model Accuracy')\n",
    "plt.ylabel('Accuracy')\n",
    "plt.xlabel('Epoch')\n",
    "plt.legend(['train', 'val'], loc='upper left')"
   ]
  },
  {
   "cell_type": "code",
   "execution_count": 16,
   "metadata": {},
   "outputs": [
    {
     "data": {
      "text/plain": [
       "<matplotlib.legend.Legend at 0x13af2dd68>"
      ]
     },
     "execution_count": 16,
     "metadata": {},
     "output_type": "execute_result"
    },
    {
     "data": {
      "image/png": "[encoded data removed]",
      "text/plain": [
       "<Figure size 432x288 with 1 Axes>"
      ]
     },
     "metadata": {
      "needs_background": "light"
     },
     "output_type": "display_data"
    }
   ],
   "source": [
    "plt.plot(train_history2.history['loss'])\n",
    "plt.plot(train_history2.history['val_loss'])\n",
    "plt.title('Model Loss')\n",
    "plt.ylabel('Loss')\n",
    "plt.xlabel('Epoch')\n",
    "plt.legend(['train', 'val'], loc='upper left')"
   ]
  },
  {
   "cell_type": "markdown",
   "metadata": {},
   "source": [
    "### 檢視模型跑測試集結果"
   ]
  },
  {
   "cell_type": "code",
   "execution_count": 17,
   "metadata": {},
   "outputs": [
    {
     "name": "stdout",
     "output_type": "stream",
     "text": [
      "10000/10000 [==============================] - 1s 74us/sample - loss: 0.0291 - accuracy: 0.9903\n"
     ]
    }
   ],
   "source": [
    "score1 = model.evaluate(x_test,y_test)"
   ]
  },
  {
   "cell_type": "code",
   "execution_count": 22,
   "metadata": {},
   "outputs": [
    {
     "name": "stdout",
     "output_type": "stream",
     "text": [
      "預測準確率為： 0.9903\n",
      "預測偏誤率為： 0.0291\n"
     ]
    }
   ],
   "source": [
    "loss1, acc1 = score1\n",
    "print('預測準確率為：',acc1)\n",
    "print('預測偏誤率為：',round(loss1,4))"
   ]
  },
  {
   "cell_type": "markdown",
   "metadata": {},
   "source": [
    "### 小結：準確率、偏誤率有點太高，主要參數幾乎沒改，推測使用不同loss函數及optimizer是主因。"
   ]
  },
  {
   "cell_type": "markdown",
   "metadata": {},
   "source": [
    "### 參考資料\n",
    "\n",
    "#### https://keras.io/zh/visualization/\n",
    "#### https://hackmd.io/@allen108108/rkn-oVGA4\n",
    "#### https://medium.com/@chih.sheng.huang821/%E5%8D%B7%E7%A9%8D%E7%A5%9E%E7%B6%93%E7%B6%B2%E8%B7%AF-convolutional-neural-network-cnn-%E5%8D%B7%E7%A9%8D%E8%A8%88%E7%AE%97%E4%B8%AD%E7%9A%84%E6%AD%A5%E4%BC%90-stride-%E5%92%8C%E5%A1%AB%E5%85%85-padding-94449e638e82\n",
    "#### https://medium.com/%E9%9B%9E%E9%9B%9E%E8%88%87%E5%85%94%E5%85%94%E7%9A%84%E5%B7%A5%E7%A8%8B%E4%B8%96%E7%95%8C/%E6%A9%9F%E5%99%A8%E5%AD%B8%E7%BF%92ml-note-sgd-momentum-adagrad-adam-optimizer-f20568c968db\n",
    "#### https://medium.com/@chih.sheng.huang821/%E5%8D%B7%E7%A9%8D%E7%A5%9E%E7%B6%93%E7%B6%B2%E8%B7%AF-convolutional-neural-network-cnn-%E5%8D%B7%E7%A9%8D%E9%81%8B%E7%AE%97-%E6%B1%A0%E5%8C%96%E9%81%8B%E7%AE%97-856330c2b703"
   ]
  }
 ],
 "metadata": {
  "kernelspec": {
   "display_name": "Python 3",
   "language": "python",
   "name": "python3"
  },
  "language_info": {
   "codemirror_mode": {
    "name": "ipython",
    "version": 3
   },
   "file_extension": ".py",
   "mimetype": "text/x-python",
   "name": "python",
   "nbconvert_exporter": "python",
   "pygments_lexer": "ipython3",
   "version": "3.7.3"
  }
 },
 "nbformat": 4,
 "nbformat_minor": 2
}
