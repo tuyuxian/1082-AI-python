{
 "cells": [
  {
   "cell_type": "code",
   "execution_count": 1,
   "metadata": {},
   "outputs": [],
   "source": [
    "import requests\n",
    "import re\n",
    "import time\n",
    "import pandas as pd"
   ]
  },
  {
   "cell_type": "code",
   "execution_count": 2,
   "metadata": {},
   "outputs": [],
   "source": [
    "def crawl_page(url):\n",
    "    headers = {'user-agent': 'Mozilla/5.0 (Macintosh; Intel Mac OS X 10_15_2) AppleWebKit/537.36 (KHTML, like Gecko) Chrome/79.0.3945.88 Safari/537.36'}\n",
    "    web = requests.get(url, headers = headers)\n",
    "    return web.text"
   ]
  },
  {
   "cell_type": "code",
   "execution_count": 3,
   "metadata": {},
   "outputs": [],
   "source": [
    "# 從yahoo finanace, investing.com 爬取債券資訊\n",
    "\n",
    "# 美債\n",
    "usBond = crawl_page('https://finance.yahoo.com/bonds?.tsrc=fin-srch')\n",
    "pattern_usbond = re.compile('class=\"data-col1.*?>(.*?)<\\/td><t.*?>(.*?)<\\/td>')\n",
    "usbond = re.findall(pattern_usbond,usBond)\n",
    "# 德債\n",
    "germanBond = crawl_page('https://www.investing.com/rates-bonds/germany-10-year-bond-yield')\n",
    "pattern_germanbond = re.compile('class=\"arial_22\">(.*?)<\\/span>\\s+<s.*?>(.*?)<\\/span>')\n",
    "germanBond = re.findall(pattern_germanbond,germanBond)\n",
    "\n",
    "bond_lst = [usbond[1],usbond[2],germanBond[0]]"
   ]
  },
  {
   "cell_type": "code",
   "execution_count": 4,
   "metadata": {},
   "outputs": [],
   "source": [
    "# 從財經m平方爬取匯率資料\n",
    "Forex = []\n",
    "pattern_forex_item = re.compile('class=\"chart-link\".*?>(.*?)<\\/a>')\n",
    "pattern_forex_num = re.compile('class=\"hiliter\">(.*?)<\\/span><\\/td>')\n",
    "pattern_forex_delta = re.compile('class=\"val-delta\">(.*?)<\\/span>')\n",
    "web = crawl_page('https://www.macromicro.me/forex')\n",
    "Forex_item = re.findall(pattern_forex_item, web)\n",
    "Forex_num = re.findall(pattern_forex_num, web)\n",
    "Forex_delta = re.findall(pattern_forex_delta, web)\n",
    "Forex.append(Forex_item)\n",
    "Forex.append(Forex_num)\n",
    "Forex.append(Forex_delta)\n",
    "Forex_lst = list(zip(Forex[0],Forex[1],Forex[2]))\n",
    "\n",
    "foreign_lst = [Forex_lst[0],Forex_lst[1],Forex_lst[9]]"
   ]
  },
  {
   "cell_type": "code",
   "execution_count": 5,
   "metadata": {},
   "outputs": [],
   "source": [
    "# 從財經m平方爬取原物料資料\n",
    "Raw = []\n",
    "pattern_Raw_item = re.compile('class=\"chart-link\".*?>(.*?)<\\/a>')\n",
    "pattern_Raw_num = re.compile('class=\"hiliter\">(.*?)<\\/span><\\/td>')\n",
    "pattern_Raw_delta = re.compile('class=\"val-delta\">(.*?)<\\/span>')\n",
    "web = crawl_page('https://www.macromicro.me/raw-materials')\n",
    "Raw_item = re.findall(pattern_Raw_item, web)\n",
    "Raw_num = re.findall(pattern_Raw_num, web)\n",
    "Raw_delta = re.findall(pattern_Raw_delta, web)\n",
    "Raw.append(Raw_item)\n",
    "Raw.append(Raw_num)\n",
    "Raw.append(Raw_delta)\n",
    "Raw_lst = list(zip(Raw[0],Raw[1],Raw[2]))\n",
    "\n",
    "raw_lst = [Raw_lst[1],Raw_lst[5],Raw_lst[9]]"
   ]
  },
  {
   "cell_type": "code",
   "execution_count": 6,
   "metadata": {},
   "outputs": [],
   "source": [
    "# 從財經m平方爬取美國、台灣gdp、pmi資料\n",
    "pattern_usaGDP = re.compile('class=\"stat-name\">(.*?)<\\/div><d.*?>(.*?)<\\/div>\\s+<d.*?><s.*?>(.*?)<\\/span>')\n",
    "web = crawl_page('https://www.macromicro.me/collections/2/us-gdp-relative/12/real-gdp-growth')\n",
    "usaGDP = re.findall(pattern_usaGDP,web)\n",
    "\n",
    "pattern_usaPMI = re.compile('class=\"stat-name\".*?>(.*?)<\\/div>\\s+<d.*?>(.*?)<\\/div>\\s+<d.*?>\\s+<s.*?>(.*?)<\\/span>')\n",
    "web = crawl_page('https://www.macromicro.me/charts/7/ism')\n",
    "usaPMI = re.findall(pattern_usaPMI,web)\n",
    "\n",
    "pattern_twGDP = re.compile('class=\"stat-name\">(.*?)<\\/div><d.*?>(.*?)<\\/div>\\s+<d.*?><s.*?>(.*?)<\\/span>')\n",
    "web = crawl_page('https://www.macromicro.me/collections/11/tw-gdp-relative')\n",
    "twGDP = re.findall(pattern_twGDP,web)\n",
    "\n",
    "pattern_twPMI = re.compile('class=\"stat-name\".*?>(.*?)<\\/div>\\s+<d.*?>(.*?)<\\/div>\\s+<d.*?>\\s+<s.*?>(.*?)<\\/span>')\n",
    "web = crawl_page('https://www.macromicro.me/charts/1090/tai-wan-PMI-zhi-zao-ye-zhi-shu-ji-fei-zhi-zao-ye-zhi-shu')\n",
    "twPMI = re.findall(pattern_twPMI,web)\n",
    "\n",
    "gdp_lst = [usaGDP[1],twGDP[0]]\n",
    "pmi_lst = [usaPMI[0],usaPMI[1],twPMI[0],twPMI[1]]"
   ]
  },
  {
   "cell_type": "code",
   "execution_count": 7,
   "metadata": {},
   "outputs": [],
   "source": [
    "# 從財經m平方爬取bbb、ccc公司債資料\n",
    "pattern_bbbRate = re.compile('class=\"stat-name\".*?>(.*?)<\\/div>\\s+<d.*?>(.*?)<\\/div>\\s+<d.*?>\\s+<s.*?>(.*?)<\\/span>')\n",
    "web = crawl_page('https://www.macromicro.me/charts/14165/us-corporate-bbb-effective-yield')\n",
    "bbbRate = re.findall(pattern_bbbRate,web)\n",
    "\n",
    "pattern_cccRate = re.compile('class=\"stat-name\".*?>(.*?)<\\/div>\\s+<d.*?>(.*?)<\\/div>\\s+<d.*?>\\s+<s.*?>(.*?)<\\/span>')\n",
    "web = crawl_page('https://www.macromicro.me/charts/14169/us-corporate-ccc-or-below-effective-yield')\n",
    "cccRate = re.findall(pattern_cccRate,web)\n",
    "\n",
    "rate_lst = [bbbRate[0],cccRate[0]]"
   ]
  },
  {
   "cell_type": "code",
   "execution_count": 8,
   "metadata": {},
   "outputs": [],
   "source": [
    "# 從期交所上爬取期貨相關資料\n",
    "pattern_contracts = re.compile('外資<\\/div>\\s+<\\/TD>\\s+<TD.*?>\\s+<d.*?>\\s+<f.*?>\\s+.*?<\\/font>\\s+<\\/div>\\s+<d.*?><\\/div>\\s+<\\/TD>\\s+<T.*?><d.*?>\\s+.*?<\\/div>\\s+<d.*?><\\/div><\\/TD>\\s+<T.*?>\\s+<d.*?><f.*?>\\s+.*?<\\/font><\\/div>\\s+<d.*?><\\/div><\\/TD>\\s+<T.*?><d.*?>.*?<\\/div>\\s+<d.*?><\\/div><\\/TD>\\s+<T.*?><d.*?><f.*?>\\s+.*?<\\/font><\\/div>\\s+<d.*?><\\/div><\\/TD>\\s+<T.*?><d.*?>\\s+.*?<\\/div>\\s+<d.*?><\\/div><\\/TD>\\s+<T.*?><d.*?><f.*?>\\s+(.*?)<\\/font><\\/div>\\s+<d.*?><\\/div><\\/TD>\\s+<T.*?><d.*?>\\s+(.*?)<\\/div>\\s+<d.*?><\\/div><\\/TD>\\s+<T.*?><d.*?><f.*?>\\s+(.*?)<\\/font><\\/div>\\s+<d.*?><\\/div><\\/TD>\\s+<T.*?><d.*?>\\s+(.*?)<\\/div>\\s+<d.*?><\\/div><\\/TD>\\s+<T.*?><d.*?><f.*?>\\s+(.*?)<\\/font><\\/div>\\s+<d.*?><\\/div><\\/TD>\\s+<T.*?><d.*?>\\s+(.*?)<\\/div>')\n",
    "web = crawl_page('https://www.taifex.com.tw/cht/3/futContractsDate')\n",
    "contracts = re.findall(pattern_contracts,web)\n",
    "\n",
    "pattern_putcall = re.compile('class=\"table_a\">\\s+<tr>\\s+<t.*?>.*?<\\/th>\\s+<t.*?>.*?<\\/th>\\s+<t.*?>.*?<\\/th>\\s+<t.*?>.*?<\\/th>\\s+<t.*?>.*?<\\/th>\\s+<t.*?>.*?<\\/th>\\s+<t.*?>.*?<\\/th>\\s+<\\/tr>\\s+<tr>\\s+<t.*?>(.*?)<\\/td>\\s+<t.*?>(.*?)<\\/td>\\s+<t.*?>(.*?)<\\/td>\\s+<t.*?>(.*?)<\\/td>\\s+<t.*?>\\s+(.*?)<\\/td>\\s+<t.*?>\\s+(.*?)<\\/td>\\s+<t.*?>(.*?)<\\/td>')\n",
    "web = crawl_page('https://www.taifex.com.tw/cht/3/pcRatio')\n",
    "putcall = re.findall(pattern_putcall,web)\n",
    "contracts_lst = [contracts[0],contracts[3]]"
   ]
  },
  {
   "cell_type": "code",
   "execution_count": 10,
   "metadata": {},
   "outputs": [],
   "source": [
    "# 從台灣電子工業網站上爬取進出口額資料\n",
    "pattern_elec = re.compile('<\\/span><\\/td>\\s+<t.*?><s.*?>(.*?)<\\/span><\\/td>\\s+<t.*?><s.*?>(.*?)<\\/span><\\/td>\\s+<t.*?><s.*?>(.*?)<\\/span><\\/td>')\n",
    "web = crawl_page('http://www.teema.org.tw/industrial-performance.aspx')\n",
    "elec = re.findall(pattern_elec,web)\n",
    "\n",
    "electrionic_lst = [elec[0],elec[5],elec[6],elec[11],elec[12],elec[17],elec[18],elec[23]]"
   ]
  },
  {
   "cell_type": "code",
   "execution_count": 11,
   "metadata": {},
   "outputs": [],
   "source": [
    "# 從investing.com上爬取sp500 vix相關資料\n",
    "pattern_index = re.compile('<\\/td><t.*?><a.*?>(.*?)<\\/a><\\/td><t.*?>(.*?)<\\/td><t.*?>.*?<\\/td><t.*?>(.*?)<\\/td>')\n",
    "web = crawl_page('https://www.investing.com/indices/us-spx-500-futures')\n",
    "indexUSA = re.findall(pattern_index,web)\n",
    "indexUSA_lst = [indexUSA[3],indexUSA[0],indexUSA[5]]"
   ]
  },
  {
   "cell_type": "code",
   "execution_count": 12,
   "metadata": {},
   "outputs": [],
   "source": [
    "# 從histock及期交所上爬取台指期 vix相關資料\n",
    "pattern_twvix = re.compile('>(.*?)<\\/a>\\s+<\\/td><t.*?>(.*?)<\\/td>')\n",
    "web = crawl_page('https://info512.taifex.com.tw/Future/VIXQuote_Norl.aspx')\n",
    "twvix = re.findall(pattern_twvix,web)\n",
    "\n",
    "pattern_twfuture = re.compile('<h.*?>\\s+(.*?)<\\/h3>\\s+<s.*?>.*?<\\/span>\\s+<s.*?><\\/span>\\s+<i.*? \\/><a.*?>.*?<\\/a>\\s+<\\/div>\\s+<div>\\s+<u.*?>\\s+<li class=\"deal\"><b>.*?<\\/b><br \\/>\\s+<s.*?>\\s+<s.*?><s.*?>(.*?)<\\/span><\\/span><\\/span><\\/li>\\s+<l.*?><b>.*?<\\/b><br \\/>\\s+<s.*?>\\s+<s.*?><s.*?>.*?<\\/span><\\/span><\\/span><\\/li>\\s+<l.*?><b>.*?<\\/b><br \\/>\\s+<s.*?>\\s+<s.*?><s.*?>(.*?)<\\/span>')\n",
    "web = crawl_page('https://histock.tw/index-tw/FITX')\n",
    "twfuture = re.findall(pattern_twfuture,web)\n",
    "\n",
    "pattern_twindex = re.compile('<h.*?>\\s+(.*?)<\\/h3>\\s+<s.*?>.*?<\\/span>\\s+<s.*?>.*?<\\/span>\\s+<\\/div>\\s+<\\/div>\\s+<d.*?>\\s+<div>\\s+<u.*?>\\s+<l.*?><b>.*?<\\/b><br \\/>\\s+<s.*?>\\s+<s.*?>(.*?)<\\/span><\\/span><\\/li>\\s+<l.*?><b>.*?<\\/b><br \\/>\\s+<s.*?>\\s+<s.*?>.*?<\\/span><\\/span><\\/li>\\s+<l.*?><b>.*?<\\/b><br \\/>\\s+<s.*?>\\s+<s.*?>(.*?)<\\/span>')\n",
    "web = crawl_page('https://histock.tw/tw')\n",
    "twindex = re.findall(pattern_twindex,web)\n",
    "\n",
    "indexTW_lst = [twindex[0],twfuture[0],twvix[0]]"
   ]
  },
  {
   "cell_type": "code",
   "execution_count": 13,
   "metadata": {},
   "outputs": [],
   "source": [
    "# 將資料轉換成表格\n",
    "foreign_data = {'標的':[item[0] for item in foreign_lst],\n",
    "            '價格':[item[1] for item in foreign_lst],\n",
    "            '漲跌':[item[2] for item in foreign_lst]}\n",
    "raw_data = {'標的':[item[0] for item in raw_lst],\n",
    "            '價格':[item[1] for item in raw_lst],\n",
    "            '漲跌':[item[2] for item in raw_lst]}\n",
    "bond_data = {'標的':[item[0] for item in bond_lst],\n",
    "             '利率':[item[1] for item in bond_lst]}\n",
    "gdp_data = {'國家':[item[0] for item in gdp_lst],\n",
    "            '季度':[item[1] for item in gdp_lst],\n",
    "            '數值':[item[2] for item in gdp_lst]}\n",
    "pmi_data = {'國家':[item[0] for item in pmi_lst],\n",
    "            '季度':[item[1] for item in pmi_lst],\n",
    "            '數值':[item[2] for item in pmi_lst]}\n",
    "rate_data = {'標的':[item[0] for item in rate_lst],\n",
    "             '時間':[item[1] for item in rate_lst],\n",
    "             '利率':[item[2] for item in rate_lst]}\n",
    "putcall_data = {'日期':[item[0] for item in putcall],\n",
    "                '賣權未平倉量':[item[4] for item in putcall],\n",
    "                '買權未平倉量':[item[5] for item in putcall],\n",
    "                '買賣權未平倉量比率%':[item[6] for item in putcall]}\n",
    "contracts_data = {'未平倉餘額(多方口數)':[item[0] for item in contracts_lst],\n",
    "                  '未平倉餘額(空方口數)':[item[2] for item in contracts_lst],\n",
    "                  '未平倉餘額(多空淨額口數)':[item[4] for item in contracts_lst]}\n",
    "elec_data = {'本期(上:出口,下:進口)':[item[0] for item in electrionic_lst],\n",
    "             '去年同期or上期':[item[1] for item in electrionic_lst],\n",
    "             '增減比例':[item[2] for item in electrionic_lst]}\n",
    "indexUSA_data = {'標的':[item[0] for item in indexUSA_lst],\n",
    "                 '價格':[item[1] for item in indexUSA_lst],\n",
    "                 '漲跌':[item[2] for item in indexUSA_lst]}\n",
    "indexTW_data = {'標的':[item[0] for item in indexTW_lst],\n",
    "                '價格':[item[1] for item in indexTW_lst]}"
   ]
  },
  {
   "cell_type": "code",
   "execution_count": 14,
   "metadata": {},
   "outputs": [],
   "source": [
    "# 轉成dataframe\n",
    "foreign_data = pd.DataFrame(foreign_data)\n",
    "raw_data = pd.DataFrame(raw_data)\n",
    "bond_data = pd.DataFrame(bond_data)\n",
    "gdp_data = pd.DataFrame(gdp_data)\n",
    "pmi_data = pd.DataFrame(pmi_data)\n",
    "rate_data = pd.DataFrame(rate_data)\n",
    "putcall_data = pd.DataFrame(putcall_data)\n",
    "contracts_data = pd.DataFrame(contracts_data)\n",
    "elec_data = pd.DataFrame(elec_data)\n",
    "indexUSA_data = pd.DataFrame(indexUSA_data)\n",
    "indexTW_data = pd.DataFrame(indexTW_data)"
   ]
  },
  {
   "cell_type": "code",
   "execution_count": 15,
   "metadata": {},
   "outputs": [],
   "source": [
    "# 輸出excel檔\n",
    "write = pd.ExcelWriter('/Users/samtu/desktop/output.xlsx') #選擇存檔資料夾\n",
    "# 輸出成分頁\n",
    "gdp_data.to_excel(write,sheet_name = 'GDP', header = True, index = False)\n",
    "pmi_data.to_excel(write,sheet_name = 'PMI', header = True, index = False)\n",
    "elec_data.to_excel(write,sheet_name = '電子業進出口', header = True, index = False)\n",
    "raw_data.to_excel(write,sheet_name = '原物料', header = True, index = False)\n",
    "bond_data.to_excel(write,sheet_name = '債券', header = True, index = False)\n",
    "rate_data.to_excel(write,sheet_name = '公司債', header = True, index = False)\n",
    "foreign_data.to_excel(write,sheet_name = '匯率', header = True, index = False)\n",
    "indexUSA_data.to_excel(write,sheet_name = '美國指數', header = True, index = False)\n",
    "indexTW_data.to_excel(write,sheet_name = '台灣指數', header = True, index = False)\n",
    "contracts_data.to_excel(write,sheet_name = '未平倉', header = True, index = False)\n",
    "putcall_data.to_excel(write,sheet_name = '選擇權比例', header = True, index = False)\n",
    "write.save()"
   ]
  },
  {
   "cell_type": "code",
   "execution_count": null,
   "metadata": {},
   "outputs": [],
   "source": []
  }
 ],
 "metadata": {
  "kernelspec": {
   "display_name": "Python 3",
   "language": "python",
   "name": "python3"
  },
  "language_info": {
   "codemirror_mode": {
    "name": "ipython",
    "version": 3
   },
   "file_extension": ".py",
   "mimetype": "text/x-python",
   "name": "python",
   "nbconvert_exporter": "python",
   "pygments_lexer": "ipython3",
   "version": "3.7.3"
  }
 },
 "nbformat": 4,
 "nbformat_minor": 2
}
