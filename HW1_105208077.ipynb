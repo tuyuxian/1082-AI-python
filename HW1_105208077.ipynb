{
 "cells": [
  {
   "cell_type": "markdown",
   "metadata": {},
   "source": [
    "## 第一次作業\n",
    "### 引入模組"
   ]
  },
  {
   "cell_type": "code",
   "execution_count": 1,
   "metadata": {},
   "outputs": [],
   "source": [
    "import pandas as pd\n",
    "import numpy as np\n",
    "import matplotlib.pyplot as plt\n",
    "import tensorflow as tf"
   ]
  },
  {
   "cell_type": "code",
   "execution_count": 2,
   "metadata": {},
   "outputs": [],
   "source": [
    "from tensorflow.keras.datasets import fashion_mnist\n",
    "from tensorflow.keras.optimizers import SGD\n",
    "from tensorflow.keras.layers import Dense\n",
    "from tensorflow.keras.models import Sequential\n",
    "from tensorflow.keras.utils import to_categorical"
   ]
  },
  {
   "cell_type": "markdown",
   "metadata": {},
   "source": [
    "### 讀取資料並簡單檢視"
   ]
  },
  {
   "cell_type": "code",
   "execution_count": 3,
   "metadata": {},
   "outputs": [
    {
     "name": "stdout",
     "output_type": "stream",
     "text": [
      "這是 Trouser\n"
     ]
    },
    {
     "data": {
      "text/plain": [
       "<matplotlib.image.AxesImage at 0x140ee26d8>"
      ]
     },
     "execution_count": 3,
     "metadata": {},
     "output_type": "execute_result"
    },
    {
     "data": {
      "image/png": "[encoded data removed]",
      "text/plain": [
       "<Figure size 432x288 with 1 Axes>"
      ]
     },
     "metadata": {
      "needs_background": "light"
     },
     "output_type": "display_data"
    }
   ],
   "source": [
    "(x_train, y_train), (x_test, y_test) = fashion_mnist.load_data()\n",
    "\n",
    "class_names = ['T-shirt/top', 'Trouser', 'Pullover', 'Dress', 'Coat',\n",
    "               'Sandal', 'Shirt', 'Sneaker', 'Bag', 'Ankle boot']\n",
    "\n",
    "n = 1000\n",
    "print('這是', class_names[y_train[n]])\n",
    "plt.imshow(x_train[n], cmap='Greys')"
   ]
  },
  {
   "cell_type": "code",
   "execution_count": 4,
   "metadata": {},
   "outputs": [
    {
     "data": {
      "image/png": "[encoded data removed]",
      "text/plain": [
       "<Figure size 432x288 with 5 Axes>"
      ]
     },
     "metadata": {},
     "output_type": "display_data"
    }
   ],
   "source": [
    "pick = np.random.choice(60000, 5, replace=False)\n",
    "\n",
    "for i in range(5):\n",
    "    n = pick[i]\n",
    "    ax = plt.subplot(151+i)\n",
    "    ax.set_xticks([])\n",
    "    ax.set_yticks([])\n",
    "    ax.set_title(class_names[y_train[n]], fontsize=10)\n",
    "    plt.imshow(x_train[n], cmap='Greys')"
   ]
  },
  {
   "cell_type": "markdown",
   "metadata": {},
   "source": [
    "### 檢視資料型態"
   ]
  },
  {
   "cell_type": "code",
   "execution_count": 5,
   "metadata": {},
   "outputs": [
    {
     "data": {
      "text/plain": [
       "(60000, 28, 28)"
      ]
     },
     "execution_count": 5,
     "metadata": {},
     "output_type": "execute_result"
    }
   ],
   "source": [
    "x_train.shape"
   ]
  },
  {
   "cell_type": "code",
   "execution_count": 6,
   "metadata": {},
   "outputs": [
    {
     "data": {
      "text/plain": [
       "(10000, 28, 28)"
      ]
     },
     "execution_count": 6,
     "metadata": {},
     "output_type": "execute_result"
    }
   ],
   "source": [
    "x_test.shape"
   ]
  },
  {
   "cell_type": "markdown",
   "metadata": {},
   "source": [
    "### 檢視第一筆資料的矩陣"
   ]
  },
  {
   "cell_type": "code",
   "execution_count": 7,
   "metadata": {},
   "outputs": [
    {
     "data": {
      "text/plain": [
       "array([[  0,   0,   0,   0,   0,   0,   0,   0,   0,   0,  13,  67,   0,\n",
       "          0,   0,   0,  50,  38,   0,   0,   0,   0,   0,   0,   0,   0,\n",
       "          0,   0],\n",
       "       [  0,   0,   0,   0,   0,   0,   0,   8, 120, 209, 226, 247, 237,\n",
       "        255, 255, 255, 247, 238, 235, 172,  72,   0,   0,   0,   0,   0,\n",
       "          0,   0],\n",
       "       [  0,   0,   0,   0,   0,   0, 137, 239, 252, 243, 234, 229, 238,\n",
       "        244, 246, 240, 230, 232, 239, 248, 251, 194,   0,   0,   0,   0,\n",
       "          0,   0],\n",
       "       [  0,   0,   0,   0,   0, 102, 255, 231, 228, 227, 228, 233, 230,\n",
       "        230, 229, 228, 232, 232, 231, 227, 224, 252, 179,   0,   0,   0,\n",
       "          0,   0],\n",
       "       [  0,   0,   0,   0,   0, 233, 241, 229, 231, 255, 255, 238, 231,\n",
       "        227, 238, 246, 228, 230, 227, 234, 235, 229, 241,  20,   0,   0,\n",
       "          0,   0],\n",
       "       [  0,   0,   0,   0,   0, 248, 241, 231, 255, 149,  47, 252, 228,\n",
       "        255, 242, 216, 238, 232, 255, 228, 220, 234, 250,  54,   0,   0,\n",
       "          0,   0],\n",
       "       [  0,   0,   0,   0,   0, 255, 240, 232, 255,  15,   0, 255, 237,\n",
       "        191,   0,   0, 214, 255,  13, 123, 255, 234, 252, 114,   0,   0,\n",
       "          0,   0],\n",
       "       [  0,   0,   0,   0,   6, 255, 238, 239, 255, 177,   0, 255, 255,\n",
       "          0, 130, 116,  47,  65,  43,  37, 255, 236, 249, 162,   0,   0,\n",
       "          0,   0],\n",
       "       [  0,   0,   0,   0,  32, 255, 236, 245, 255, 204,   0, 255,  84,\n",
       "          0,  37,  28,  31,   0,  25,  13, 255, 236, 249, 199,   0,   0,\n",
       "          0,   0],\n",
       "       [  0,   0,   0,   0,  53, 255, 236, 250, 250, 231,   2, 255,  21,\n",
       "          0, 221, 255, 236,  54, 245, 198, 243, 238, 245, 223,   0,   0,\n",
       "          0,   0],\n",
       "       [  0,   0,   0,   0,  80, 255, 237, 250, 240, 255,   0,   0,  39,\n",
       "        157,   0,   0, 215,  94,  20, 126, 255, 237, 239, 250,   0,   0,\n",
       "          0,   0],\n",
       "       [  0,   0,   0,   0, 101, 255, 235, 253, 244, 243, 133, 138, 208,\n",
       "        255, 201, 214, 255, 230,   7, 174, 255, 240, 238, 255,   0,   0,\n",
       "          0,   0],\n",
       "       [  0,   0,   0,   0, 126, 255, 233, 255, 248, 233, 255, 255, 240,\n",
       "        232, 243, 243, 231, 251, 255, 255, 254, 243, 238, 255,   3,   0,\n",
       "          0,   0],\n",
       "       [  0,   0,   0,   0, 147, 255, 233, 249, 181, 243, 227, 224, 230,\n",
       "        234, 230, 230, 235, 228, 235, 222, 207, 255, 236, 255,  35,   0,\n",
       "          0,   0],\n",
       "       [  0,   0,   0,   0, 163, 255, 245, 221,  86, 255, 233, 233, 235,\n",
       "        236, 234, 234, 234, 232, 242, 231, 125, 255, 236, 255,  55,   0,\n",
       "          0,   0],\n",
       "       [  0,   0,   0,   0, 181, 254, 255, 200,  69, 255, 228, 232, 234,\n",
       "        235, 234, 234, 233, 235, 241, 237,  70, 255, 235, 246,  57,   0,\n",
       "          0,   0],\n",
       "       [  0,   0,   0,   0, 197, 247, 255, 188, 110, 255, 224, 233, 234,\n",
       "        234, 234, 234, 234, 234, 240, 253,  69, 255, 236, 248,  77,   0,\n",
       "          0,   0],\n",
       "       [  0,   0,   0,   0, 200, 246, 255, 149, 145, 255, 223, 235, 234,\n",
       "        235, 235, 235, 234, 237, 233, 255,  47, 255, 239, 249,  98,   0,\n",
       "          0,   0],\n",
       "       [  0,   0,   0,   0, 204, 243, 255, 111, 173, 255, 227, 235, 235,\n",
       "        236, 235, 235, 235, 239, 229, 255,  19, 227, 246, 249, 110,   0,\n",
       "          0,   0],\n",
       "       [  0,   0,   0,   0, 196, 240, 255, 109, 213, 250, 229, 235, 235,\n",
       "        236, 235, 237, 236, 237, 226, 255,  55, 203, 251, 245, 120,   0,\n",
       "          0,   0],\n",
       "       [  0,   0,   0,   0, 192, 243, 255, 114, 232, 240, 232, 235, 235,\n",
       "        236, 234, 237, 236, 235, 229, 255, 134, 171, 252, 244, 137,   0,\n",
       "          0,   0],\n",
       "       [  0,   0,   0,   0, 189, 251, 255, 154, 238, 233, 236, 234, 235,\n",
       "        236, 235, 238, 236, 235, 232, 255, 166, 125, 255, 243, 142,   0,\n",
       "          0,   0],\n",
       "       [  0,   0,   0,   0, 183, 252, 255, 171, 247, 232, 234, 234, 233,\n",
       "        233, 232, 234, 233, 234, 233, 240, 223, 128, 255, 242, 151,   0,\n",
       "          0,   0],\n",
       "       [  0,   0,   0,   0, 178, 243, 255,  57, 238, 241, 238, 238, 238,\n",
       "        237, 236, 237, 237, 240, 237, 254, 176,  52, 255, 239, 157,   0,\n",
       "          0,   0],\n",
       "       [  0,   0,   0,   0, 188, 240, 250,  62, 218, 255, 220, 222, 222,\n",
       "        222, 223, 223, 224, 222, 218, 255, 154,  32, 255, 236, 188,   0,\n",
       "          0,   0],\n",
       "       [  0,   0,   0,   0, 130, 245, 242,  24,   0,   0,   0,   0,   0,\n",
       "          0,   0,   0,   0,   0,   0,   0,   0,  34, 242, 244, 135,   0,\n",
       "          0,   0],\n",
       "       [  0,   0,   0,   0,  76, 255, 249,  22,   0,   0,   0,   0,   0,\n",
       "          0,   0,   0,   0,   0,   0,   0,   0,  39, 249, 255, 123,   0,\n",
       "          0,   0],\n",
       "       [  0,   0,   0,   0,  49, 205, 197,  11,   0,   4,   1,   2,   2,\n",
       "          2,   2,   2,   2,   2,   2,   3,   0,   3, 174, 189,  67,   0,\n",
       "          0,   0]], dtype=uint8)"
      ]
     },
     "execution_count": 7,
     "metadata": {},
     "output_type": "execute_result"
    }
   ],
   "source": [
    "x_test[1]"
   ]
  },
  {
   "cell_type": "markdown",
   "metadata": {},
   "source": [
    "### 色彩範圍為0~255\n",
    "### 將矩陣轉範圍為0-1 將矩陣除以255"
   ]
  },
  {
   "cell_type": "code",
   "execution_count": 8,
   "metadata": {},
   "outputs": [],
   "source": [
    "x_train = x_train/255\n",
    "x_test = x_test/255"
   ]
  },
  {
   "cell_type": "markdown",
   "metadata": {},
   "source": [
    "### 使用reshape將矩陣拉平"
   ]
  },
  {
   "cell_type": "code",
   "execution_count": 9,
   "metadata": {},
   "outputs": [],
   "source": [
    "x_train = x_train.reshape(60000, 784)\n",
    "x_test = x_test.reshape(10000, 784)"
   ]
  },
  {
   "cell_type": "markdown",
   "metadata": {},
   "source": [
    "### activation = relu\n",
    "### layer 1: 200 neurons\n",
    "### layer 2: 100 neurons\n",
    "### output layer: 10 neurons"
   ]
  },
  {
   "cell_type": "code",
   "execution_count": 10,
   "metadata": {},
   "outputs": [],
   "source": [
    "model = Sequential()\n",
    "model.add(Dense(200, input_dim=784, activation='relu'))\n",
    "model.add(Dense(100, activation='relu'))\n",
    "model.add(Dense(10, activation='softmax'))"
   ]
  },
  {
   "cell_type": "code",
   "execution_count": 11,
   "metadata": {},
   "outputs": [
    {
     "name": "stdout",
     "output_type": "stream",
     "text": [
      "Model: \"sequential\"\n",
      "_________________________________________________________________\n",
      "Layer (type)                 Output Shape              Param #   \n",
      "=================================================================\n",
      "dense (Dense)                (None, 200)               157000    \n",
      "_________________________________________________________________\n",
      "dense_1 (Dense)              (None, 100)               20100     \n",
      "_________________________________________________________________\n",
      "dense_2 (Dense)              (None, 10)                1010      \n",
      "=================================================================\n",
      "Total params: 178,110\n",
      "Trainable params: 178,110\n",
      "Non-trainable params: 0\n",
      "_________________________________________________________________\n"
     ]
    }
   ],
   "source": [
    "model.summary()"
   ]
  },
  {
   "cell_type": "markdown",
   "metadata": {},
   "source": [
    "### 將Loss函數由\"MSE\"改成\"sparse_categorical_crossentropy\""
   ]
  },
  {
   "cell_type": "markdown",
   "metadata": {},
   "source": [
    "### epochs 改成 30"
   ]
  },
  {
   "cell_type": "code",
   "execution_count": 12,
   "metadata": {},
   "outputs": [
    {
     "name": "stdout",
     "output_type": "stream",
     "text": [
      "Train on 60000 samples\n",
      "Epoch 1/30\n",
      "60000/60000 [==============================] - 1s 20us/sample - loss: 0.9759 - accuracy: 0.7053\n",
      "Epoch 2/30\n",
      "60000/60000 [==============================] - 1s 15us/sample - loss: 0.5992 - accuracy: 0.8008\n",
      "Epoch 3/30\n",
      "60000/60000 [==============================] - 1s 15us/sample - loss: 0.5278 - accuracy: 0.8204\n",
      "Epoch 4/30\n",
      "60000/60000 [==============================] - 1s 15us/sample - loss: 0.4917 - accuracy: 0.8313\n",
      "Epoch 5/30\n",
      "60000/60000 [==============================] - 1s 15us/sample - loss: 0.4671 - accuracy: 0.8383\n",
      "Epoch 6/30\n",
      "60000/60000 [==============================] - 1s 15us/sample - loss: 0.4504 - accuracy: 0.8446\n",
      "Epoch 7/30\n",
      "60000/60000 [==============================] - 1s 15us/sample - loss: 0.4373 - accuracy: 0.8483\n",
      "Epoch 8/30\n",
      "60000/60000 [==============================] - 1s 15us/sample - loss: 0.4265 - accuracy: 0.8519\n",
      "Epoch 9/30\n",
      "60000/60000 [==============================] - 1s 16us/sample - loss: 0.4166 - accuracy: 0.8551\n",
      "Epoch 10/30\n",
      "60000/60000 [==============================] - 1s 15us/sample - loss: 0.4088 - accuracy: 0.8588\n",
      "Epoch 11/30\n",
      "60000/60000 [==============================] - 1s 15us/sample - loss: 0.4011 - accuracy: 0.8611\n",
      "Epoch 12/30\n",
      "60000/60000 [==============================] - 1s 15us/sample - loss: 0.3936 - accuracy: 0.8633\n",
      "Epoch 13/30\n",
      "60000/60000 [==============================] - 1s 16us/sample - loss: 0.3869 - accuracy: 0.8655\n",
      "Epoch 14/30\n",
      "60000/60000 [==============================] - 1s 15us/sample - loss: 0.3822 - accuracy: 0.8658\n",
      "Epoch 15/30\n",
      "60000/60000 [==============================] - 1s 15us/sample - loss: 0.3767 - accuracy: 0.8687\n",
      "Epoch 16/30\n",
      "60000/60000 [==============================] - 1s 15us/sample - loss: 0.3716 - accuracy: 0.8700\n",
      "Epoch 17/30\n",
      "60000/60000 [==============================] - 1s 15us/sample - loss: 0.3668 - accuracy: 0.8726\n",
      "Epoch 18/30\n",
      "60000/60000 [==============================] - 1s 15us/sample - loss: 0.3620 - accuracy: 0.8734\n",
      "Epoch 19/30\n",
      "60000/60000 [==============================] - 1s 15us/sample - loss: 0.3588 - accuracy: 0.8741\n",
      "Epoch 20/30\n",
      "60000/60000 [==============================] - 1s 15us/sample - loss: 0.3546 - accuracy: 0.8759\n",
      "Epoch 21/30\n",
      "60000/60000 [==============================] - 1s 15us/sample - loss: 0.3499 - accuracy: 0.8777\n",
      "Epoch 22/30\n",
      "60000/60000 [==============================] - 1s 15us/sample - loss: 0.3463 - accuracy: 0.8790\n",
      "Epoch 23/30\n",
      "60000/60000 [==============================] - 1s 15us/sample - loss: 0.3430 - accuracy: 0.8790\n",
      "Epoch 24/30\n",
      "60000/60000 [==============================] - 1s 15us/sample - loss: 0.3400 - accuracy: 0.8805\n",
      "Epoch 25/30\n",
      "60000/60000 [==============================] - 1s 15us/sample - loss: 0.3356 - accuracy: 0.8822\n",
      "Epoch 26/30\n",
      "60000/60000 [==============================] - 1s 15us/sample - loss: 0.3333 - accuracy: 0.8836\n",
      "Epoch 27/30\n",
      "60000/60000 [==============================] - 1s 15us/sample - loss: 0.3292 - accuracy: 0.8836\n",
      "Epoch 28/30\n",
      "60000/60000 [==============================] - 1s 15us/sample - loss: 0.3269 - accuracy: 0.8858\n",
      "Epoch 29/30\n",
      "60000/60000 [==============================] - 1s 15us/sample - loss: 0.3238 - accuracy: 0.8859\n",
      "Epoch 30/30\n",
      "60000/60000 [==============================] - 1s 15us/sample - loss: 0.3207 - accuracy: 0.8872\n"
     ]
    }
   ],
   "source": [
    "model.compile(loss='sparse_categorical_crossentropy', optimizer='sgd', metrics=['accuracy'])\n",
    "train_history = model.fit(x_train, y_train, batch_size=100, epochs=30)"
   ]
  },
  {
   "cell_type": "code",
   "execution_count": 13,
   "metadata": {},
   "outputs": [],
   "source": [
    "result = model.predict_classes(x_test)"
   ]
  },
  {
   "cell_type": "markdown",
   "metadata": {},
   "source": [
    "### 先看一下模型對於測試資料集的預測準確率"
   ]
  },
  {
   "cell_type": "code",
   "execution_count": 14,
   "metadata": {},
   "outputs": [
    {
     "name": "stdout",
     "output_type": "stream",
     "text": [
      "10000/10000 [==============================] - 0s 30us/sample - loss: 0.3722 - accuracy: 0.8670\n"
     ]
    }
   ],
   "source": [
    "score = model.evaluate(x_test,y_test)"
   ]
  },
  {
   "cell_type": "code",
   "execution_count": 15,
   "metadata": {},
   "outputs": [
    {
     "name": "stdout",
     "output_type": "stream",
     "text": [
      "預測準確率為： 0.867\n"
     ]
    }
   ],
   "source": [
    "loss, acc = score\n",
    "print('預測準確率為：',acc)"
   ]
  },
  {
   "cell_type": "markdown",
   "metadata": {},
   "source": [
    "### 檢視預測結果與圖片是否相符"
   ]
  },
  {
   "cell_type": "code",
   "execution_count": 16,
   "metadata": {},
   "outputs": [
    {
     "name": "stdout",
     "output_type": "stream",
     "text": [
      "第幾個:100\n",
      "這是 Dress\n",
      "The prediction is right.\n"
     ]
    },
    {
     "data": {
      "image/png": "[encoded data removed]",
      "text/plain": [
       "<Figure size 432x288 with 1 Axes>"
      ]
     },
     "metadata": {
      "needs_background": "light"
     },
     "output_type": "display_data"
    }
   ],
   "source": [
    "n = eval(input(\"第幾個:\"))\n",
    "print('這是', class_names[result[n]])\n",
    "plt.imshow(x_test[n].reshape(28,28), cmap = 'Greys')\n",
    "if result[n] == y_test[n]:\n",
    "    print(\"The prediction is right.\")\n",
    "else:\n",
    "    print(\"The prediction is wrong.\")"
   ]
  },
  {
   "cell_type": "markdown",
   "metadata": {},
   "source": [
    "### 參考眾多同學都有切割數據集來做驗證以防止過度擬合，我自己也試了一下\n",
    "### 驗證集大小為60000比測試集中的45001筆至60000筆"
   ]
  },
  {
   "cell_type": "code",
   "execution_count": 17,
   "metadata": {},
   "outputs": [],
   "source": [
    "x_training = x_train[0:45000, :]\n",
    "y_training = y_train[0:45000]\n",
    "x_val = x_train[45001:60000, :]\n",
    "y_val = y_train[45001:60000]"
   ]
  },
  {
   "cell_type": "markdown",
   "metadata": {},
   "source": [
    "### 加入驗證集後再次跑模型"
   ]
  },
  {
   "cell_type": "code",
   "execution_count": 18,
   "metadata": {},
   "outputs": [
    {
     "name": "stdout",
     "output_type": "stream",
     "text": [
      "Train on 45000 samples, validate on 14999 samples\n",
      "Epoch 1/30\n",
      "45000/45000 [==============================] - 1s 18us/sample - loss: 0.3169 - accuracy: 0.8888 - val_loss: 0.3183 - val_accuracy: 0.8873\n",
      "Epoch 2/30\n",
      "45000/45000 [==============================] - 1s 18us/sample - loss: 0.3138 - accuracy: 0.8901 - val_loss: 0.3233 - val_accuracy: 0.8843\n",
      "Epoch 3/30\n",
      "45000/45000 [==============================] - 1s 18us/sample - loss: 0.3114 - accuracy: 0.8909 - val_loss: 0.3155 - val_accuracy: 0.8891\n",
      "Epoch 4/30\n",
      "45000/45000 [==============================] - 1s 18us/sample - loss: 0.3085 - accuracy: 0.8912 - val_loss: 0.3230 - val_accuracy: 0.8868\n",
      "Epoch 5/30\n",
      "45000/45000 [==============================] - 1s 17us/sample - loss: 0.3065 - accuracy: 0.8919 - val_loss: 0.3164 - val_accuracy: 0.8878\n",
      "Epoch 6/30\n",
      "45000/45000 [==============================] - 1s 18us/sample - loss: 0.3033 - accuracy: 0.8931 - val_loss: 0.3213 - val_accuracy: 0.8853\n",
      "Epoch 7/30\n",
      "45000/45000 [==============================] - 1s 18us/sample - loss: 0.3024 - accuracy: 0.8939 - val_loss: 0.3237 - val_accuracy: 0.8852\n",
      "Epoch 8/30\n",
      "45000/45000 [==============================] - 1s 18us/sample - loss: 0.2993 - accuracy: 0.8945 - val_loss: 0.3124 - val_accuracy: 0.8887\n",
      "Epoch 9/30\n",
      "45000/45000 [==============================] - 1s 18us/sample - loss: 0.2981 - accuracy: 0.8948 - val_loss: 0.3185 - val_accuracy: 0.8845\n",
      "Epoch 10/30\n",
      "45000/45000 [==============================] - 1s 18us/sample - loss: 0.2963 - accuracy: 0.8957 - val_loss: 0.3132 - val_accuracy: 0.8880\n",
      "Epoch 11/30\n",
      "45000/45000 [==============================] - 1s 18us/sample - loss: 0.2949 - accuracy: 0.8963 - val_loss: 0.3122 - val_accuracy: 0.8884\n",
      "Epoch 12/30\n",
      "45000/45000 [==============================] - 1s 18us/sample - loss: 0.2929 - accuracy: 0.8973 - val_loss: 0.3158 - val_accuracy: 0.8879\n",
      "Epoch 13/30\n",
      "45000/45000 [==============================] - 1s 18us/sample - loss: 0.2889 - accuracy: 0.8985 - val_loss: 0.3109 - val_accuracy: 0.8901\n",
      "Epoch 14/30\n",
      "45000/45000 [==============================] - 1s 18us/sample - loss: 0.2881 - accuracy: 0.8996 - val_loss: 0.3133 - val_accuracy: 0.8882\n",
      "Epoch 15/30\n",
      "45000/45000 [==============================] - 1s 18us/sample - loss: 0.2858 - accuracy: 0.8996 - val_loss: 0.3134 - val_accuracy: 0.8888\n",
      "Epoch 16/30\n",
      "45000/45000 [==============================] - 1s 18us/sample - loss: 0.2845 - accuracy: 0.9014 - val_loss: 0.3129 - val_accuracy: 0.8891\n",
      "Epoch 17/30\n",
      "45000/45000 [==============================] - 1s 18us/sample - loss: 0.2830 - accuracy: 0.9010 - val_loss: 0.3162 - val_accuracy: 0.8862\n",
      "Epoch 18/30\n",
      "45000/45000 [==============================] - 1s 18us/sample - loss: 0.2802 - accuracy: 0.9016 - val_loss: 0.3097 - val_accuracy: 0.8901\n",
      "Epoch 19/30\n",
      "45000/45000 [==============================] - 1s 19us/sample - loss: 0.2782 - accuracy: 0.9021 - val_loss: 0.3255 - val_accuracy: 0.8837\n",
      "Epoch 20/30\n",
      "45000/45000 [==============================] - 1s 18us/sample - loss: 0.2768 - accuracy: 0.9025 - val_loss: 0.3076 - val_accuracy: 0.8897\n",
      "Epoch 21/30\n",
      "45000/45000 [==============================] - 1s 21us/sample - loss: 0.2736 - accuracy: 0.9036 - val_loss: 0.3171 - val_accuracy: 0.8864\n",
      "Epoch 22/30\n",
      "45000/45000 [==============================] - 1s 19us/sample - loss: 0.2725 - accuracy: 0.9045 - val_loss: 0.3094 - val_accuracy: 0.8895\n",
      "Epoch 23/30\n",
      "45000/45000 [==============================] - 1s 19us/sample - loss: 0.2706 - accuracy: 0.9056 - val_loss: 0.3055 - val_accuracy: 0.8917\n",
      "Epoch 24/30\n",
      "45000/45000 [==============================] - 1s 22us/sample - loss: 0.2698 - accuracy: 0.9052 - val_loss: 0.3155 - val_accuracy: 0.8866\n",
      "Epoch 25/30\n",
      "45000/45000 [==============================] - 1s 19us/sample - loss: 0.2675 - accuracy: 0.9068 - val_loss: 0.3054 - val_accuracy: 0.8911\n",
      "Epoch 26/30\n",
      "45000/45000 [==============================] - 1s 18us/sample - loss: 0.2656 - accuracy: 0.9080 - val_loss: 0.3087 - val_accuracy: 0.8903\n",
      "Epoch 27/30\n",
      "45000/45000 [==============================] - 1s 19us/sample - loss: 0.2635 - accuracy: 0.9076 - val_loss: 0.3081 - val_accuracy: 0.8900\n",
      "Epoch 28/30\n",
      "45000/45000 [==============================] - 1s 19us/sample - loss: 0.2629 - accuracy: 0.9083 - val_loss: 0.3059 - val_accuracy: 0.8899\n",
      "Epoch 29/30\n",
      "45000/45000 [==============================] - 1s 21us/sample - loss: 0.2595 - accuracy: 0.9094 - val_loss: 0.3045 - val_accuracy: 0.8926\n",
      "Epoch 30/30\n",
      "45000/45000 [==============================] - 1s 19us/sample - loss: 0.2596 - accuracy: 0.9089 - val_loss: 0.3027 - val_accuracy: 0.8927\n"
     ]
    }
   ],
   "source": [
    "train_history2 = model.fit(x_training, y_training, validation_data=(x_val, y_val), batch_size=100, epochs=30)"
   ]
  },
  {
   "cell_type": "markdown",
   "metadata": {},
   "source": [
    "### 再次觀察加入驗證集後的模型對於預測測試集的準確度"
   ]
  },
  {
   "cell_type": "code",
   "execution_count": 19,
   "metadata": {},
   "outputs": [
    {
     "name": "stdout",
     "output_type": "stream",
     "text": [
      "10000/10000 [==============================] - 0s 24us/sample - loss: 0.3459 - accuracy: 0.8790\n"
     ]
    }
   ],
   "source": [
    "score1 = model.evaluate(x_test,y_test)"
   ]
  },
  {
   "cell_type": "code",
   "execution_count": 20,
   "metadata": {},
   "outputs": [
    {
     "name": "stdout",
     "output_type": "stream",
     "text": [
      "預測準確率為： 0.879\n"
     ]
    }
   ],
   "source": [
    "loss1, acc1 = score1\n",
    "print('預測準確率為：',acc1)"
   ]
  },
  {
   "cell_type": "markdown",
   "metadata": {},
   "source": [
    "### 比較測試集的準確率"
   ]
  },
  {
   "cell_type": "code",
   "execution_count": 21,
   "metadata": {},
   "outputs": [
    {
     "name": "stdout",
     "output_type": "stream",
     "text": [
      "預測準確率為： 0.867\n",
      "預測準確率(加入驗證集)為： 0.879\n"
     ]
    }
   ],
   "source": [
    "print('預測準確率為：',acc)\n",
    "print('預測準確率(加入驗證集)為：',acc1)"
   ]
  },
  {
   "cell_type": "code",
   "execution_count": 22,
   "metadata": {},
   "outputs": [
    {
     "name": "stdout",
     "output_type": "stream",
     "text": [
      "預測偏誤率為： 0.3721746951341629\n",
      "預測偏誤率(加入驗證集)為： 0.3459387593269348\n"
     ]
    }
   ],
   "source": [
    "print('預測偏誤率為：',loss)\n",
    "print('預測偏誤率(加入驗證集)為：',loss1)"
   ]
  },
  {
   "cell_type": "markdown",
   "metadata": {},
   "source": [
    "### 可以發現切出驗證集後，對於準確率有1%左右的提升，在偏誤率也有2%左右的下降。"
   ]
  },
  {
   "cell_type": "markdown",
   "metadata": {},
   "source": [
    "### 透過圖表來看測試集準確度與驗證集準確度的關係"
   ]
  },
  {
   "cell_type": "code",
   "execution_count": 23,
   "metadata": {},
   "outputs": [
    {
     "data": {
      "text/plain": [
       "<matplotlib.legend.Legend at 0x13d9d6ba8>"
      ]
     },
     "execution_count": 23,
     "metadata": {},
     "output_type": "execute_result"
    },
    {
     "data": {
      "image/png": "[encoded data removed]",
      "text/plain": [
       "<Figure size 432x288 with 1 Axes>"
      ]
     },
     "metadata": {
      "needs_background": "light"
     },
     "output_type": "display_data"
    }
   ],
   "source": [
    "plt.plot(train_history2.history['accuracy'])\n",
    "plt.plot(train_history2.history['val_accuracy'])\n",
    "plt.title('Model Accuracy')\n",
    "plt.ylabel('Accuracy')\n",
    "plt.xlabel('Epoch')\n",
    "plt.legend(['train', 'val'], loc='upper left')"
   ]
  },
  {
   "cell_type": "markdown",
   "metadata": {},
   "source": [
    "### 透過圖表來看測試集錯誤率與驗證集錯誤率的關係"
   ]
  },
  {
   "cell_type": "code",
   "execution_count": 24,
   "metadata": {},
   "outputs": [
    {
     "data": {
      "text/plain": [
       "<matplotlib.legend.Legend at 0x13d7eef60>"
      ]
     },
     "execution_count": 24,
     "metadata": {},
     "output_type": "execute_result"
    },
    {
     "data": {
      "image/png": "[encoded data removed]",
      "text/plain": [
       "<Figure size 432x288 with 1 Axes>"
      ]
     },
     "metadata": {
      "needs_background": "light"
     },
     "output_type": "display_data"
    }
   ],
   "source": [
    "plt.plot(train_history2.history['loss'])\n",
    "plt.plot(train_history2.history['val_loss'])\n",
    "plt.title('Model Loss')\n",
    "plt.ylabel('Accuracy')\n",
    "plt.xlabel('Epoch')\n",
    "plt.legend(['train', 'val'], loc='upper left')"
   ]
  },
  {
   "cell_type": "markdown",
   "metadata": {},
   "source": [
    "### 透過混淆矩陣來看模型預測情況，矩陣從左上到右下的對角線為預測正確的數目"
   ]
  },
  {
   "cell_type": "code",
   "execution_count": 25,
   "metadata": {},
   "outputs": [
    {
     "name": "stdout",
     "output_type": "stream",
     "text": [
      "Confusion Matrix\n",
      " [[807   3  14  38   0   0 112   0   2   0]\n",
      " [  0 961   3  12   0   0   1   0   1   0]\n",
      " [  9   2 774  13 105   0  88   0   2   0]\n",
      " [ 27  25  10 862  30   1  25   0   4   0]\n",
      " [  4   4  97  36 761   0  57   0   5   0]\n",
      " [  2   0   0   0   1 946   0  22   3   7]\n",
      " [134   4  91  34  93   0 696   0  13   0]\n",
      " [  0   0   1   0   0  35   0 951   6  44]\n",
      " [ 17   1  10   5  10   2  21   0 964   1]\n",
      " [  0   0   0   0   0  16   0  27   0 948]]\n"
     ]
    }
   ],
   "source": [
    "from sklearn import metrics\n",
    "print('Confusion Matrix\\n',metrics.confusion_matrix(result, y_test))"
   ]
  },
  {
   "cell_type": "markdown",
   "metadata": {},
   "source": [
    "### 參考資料: 損失函數介紹 \n",
    "##### https://medium.com/@chih.sheng.huang821/%E6%A9%9F%E5%99%A8-%E6%B7%B1%E5%BA%A6%E5%AD%B8%E7%BF%92-%E5%9F%BA%E7%A4%8E%E4%BB%8B%E7%B4%B9-%E6%90%8D%E5%A4%B1%E5%87%BD%E6%95%B8-loss-function-2dcac5ebb6cb\n",
    "\n",
    "##### https://medium.com/%E9%9B%9E%E9%9B%9E%E8%88%87%E5%85%94%E5%85%94%E7%9A%84%E5%B7%A5%E7%A8%8B%E4%B8%96%E7%95%8C/%E6%A9%9F%E5%99%A8%E5%AD%B8%E7%BF%92-ml-note-overfitting-%E9%81%8E%E5%BA%A6%E5%AD%B8%E7%BF%92-6196902481bb"
   ]
  }
 ],
 "metadata": {
  "kernelspec": {
   "display_name": "Python 3",
   "language": "python",
   "name": "python3"
  },
  "language_info": {
   "codemirror_mode": {
    "name": "ipython",
    "version": 3
   },
   "file_extension": ".py",
   "mimetype": "text/x-python",
   "name": "python",
   "nbconvert_exporter": "python",
   "pygments_lexer": "ipython3",
   "version": "3.7.3"
  }
 },
 "nbformat": 4,
 "nbformat_minor": 2
}
